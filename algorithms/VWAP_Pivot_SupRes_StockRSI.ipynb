{
 "cells": [
  {
   "cell_type": "markdown",
   "source": [
    "# Testing algorithmic strategy Vwap_Pivot_SupRes_StochRSI"
   ],
   "metadata": {
    "collapsed": false,
    "pycharm": {
     "name": "#%% md\n"
    }
   }
  },
  {
   "cell_type": "code",
   "execution_count": 1,
   "metadata": {
    "collapsed": true
   },
   "outputs": [],
   "source": [
    "from datetime import datetime\n",
    "\n",
    "import psycopg2\n",
    "import sqlalchemy\n",
    "\n",
    "import pandas as pd\n",
    "import matplotlib.pyplot as plt\n",
    "import seaborn as sns\n",
    "\n",
    "import backtrader as bt\n",
    "import backtrader.analyzers as btanalyzers\n",
    "\n",
    "%matplotlib inline\n",
    "sns.set()"
   ]
  },
  {
   "cell_type": "code",
   "execution_count": 2,
   "outputs": [],
   "source": [
    "from sqlalchemy import create_engine\n",
    "# Postgres username, password, and database name\n",
    "POSTGRES_ADDRESS = 'localhost' ## INSERT YOUR DB ADDRESS IF IT'S NOT ON PANOPLY\n",
    "POSTGRES_PORT = '5432'\n",
    "POSTGRES_USERNAME = 'quantam_admin' ## CHANGE THIS TO YOUR PANOPLY/POSTGRES USERNAME\n",
    "POSTGRES_PASSWORD = 'password' ## CHANGE THIS TO YOUR PANOPLY/POSTGRES PASSWORD\n",
    "POSTGRES_DBNAME = 'quantam' ## CHANGE THIS TO YOUR DATABASE NAME\n",
    "# A long string that contains the necessary Postgres login information\n",
    "postgres_str = ('postgresql://{username}:{password}@{ipaddress}:{port}/{dbname}'\n",
    "    .format(\n",
    "        username=POSTGRES_USERNAME,\n",
    "        password=POSTGRES_PASSWORD,\n",
    "        ipaddress=POSTGRES_ADDRESS,\n",
    "        port=POSTGRES_PORT,\n",
    "        dbname=POSTGRES_DBNAME\n",
    "    )\n",
    ")\n",
    "# Create the connection\n",
    "cnx = create_engine(postgres_str)"
   ],
   "metadata": {
    "collapsed": false,
    "pycharm": {
     "name": "#%%\n"
    }
   }
  },
  {
   "cell_type": "code",
   "execution_count": 3,
   "outputs": [],
   "source": [
    "df = pd.read_sql_query('SELECT * FROM stock_data', cnx)"
   ],
   "metadata": {
    "collapsed": false,
    "pycharm": {
     "name": "#%%\n"
    }
   }
  },
  {
   "cell_type": "code",
   "execution_count": 4,
   "outputs": [
    {
     "data": {
      "text/plain": "<AxesSubplot:xlabel='timestamp'>"
     },
     "execution_count": 4,
     "metadata": {},
     "output_type": "execute_result"
    },
    {
     "data": {
      "text/plain": "<Figure size 432x288 with 1 Axes>",
      "image/png": "[encoded data removed]"
     },
     "metadata": {},
     "output_type": "display_data"
    }
   ],
   "source": [
    "df.plot(x=\"timestamp\", y=\"close\")"
   ],
   "metadata": {
    "collapsed": false,
    "pycharm": {
     "name": "#%%\n"
    }
   }
  },
  {
   "cell_type": "code",
   "execution_count": 5,
   "outputs": [],
   "source": [
    "class VapSys(bt.Strategy):\n",
    "    # list of parameters which are configurable for the strategy\n",
    "    params = dict(pfast=10, pslow=25)  # period for the fast moving average  # period for the slow moving average\n",
    "\n",
    "    def __init__(self):\n",
    "        stock = bt.ind.Stochastic()\n",
    "        rsi = bt.ind.RSI_EMA()\n",
    "        # sma1 = bt.ind.SmoothedMovingAverage(period=self.p.pfast)  # fast moving average\n",
    "        # sma2 = bt.ind.SmoothedMovingAverage(period=self.p.pslow)  # slow moving average\n",
    "        # self.crossover = bt.ind.CrossOver(sma1, sma2)  # crossover signal\n",
    "        self.sk = stock.lines.percK\n",
    "        self.sd = stock.lines.percD\n",
    "        self.c1 = bt.ind.CrossOver(self.sk, self.sd)\n",
    "        self.c2 = bt.ind.CrossOver(self.sk, 20)\n",
    "        # self.c3 = bt.ind.CrossOver(20, self.sk)\n",
    "        self.signal = self.c2\n",
    "\n",
    "\n",
    "    def next(self):\n",
    "        if not self.position:  # not in the market\n",
    "            # if self.crossover > 0:  # if fast crosses slow to the upside\n",
    "            #     self.buy()  # enter long\n",
    "            if self.signal > 0:\n",
    "              self.buy()\n",
    "\n",
    "        elif self.signal < 0:  # in the market & cross to the downside\n",
    "            self.close()  # close long position\n"
   ],
   "metadata": {
    "collapsed": false,
    "pycharm": {
     "name": "#%%\n"
    }
   }
  },
  {
   "cell_type": "code",
   "execution_count": null,
   "outputs": [],
   "source": [
    "cerebro = bt.Cerebro()  # create a \"Cerebro\" engine instance\n",
    "\n",
    "# Create a data feed\n",
    "data = bt.feeds.YahooFinanceData(dataname=\"AAPL\", fromdate=datetime(2016, 1, 1), todate=datetime(2019, 5, 31))\n",
    "\n",
    "cerebro.adddata(data)  # Add the data feed\n",
    "\n",
    "cerebro.addstrategy(VapSys)  # Add the trading strategy\n",
    "cerebro.run()  # run it all\n",
    "cerebro.plot(\n",
    "    style='bar',\n",
    "    numfigs=8,\n",
    "    iplot=False\n",
    ")  # and plot it with a single command\n"
   ],
   "metadata": {
    "collapsed": false,
    "pycharm": {
     "name": "#%%\n",
     "is_executing": true
    }
   }
  },
  {
   "cell_type": "code",
   "execution_count": null,
   "outputs": [],
   "source": [
    "# Analyzer\n",
    "cerebro.addanalyzer(btanalyzers.SharpeRatio, _name=\"mysharpe\")\n",
    "\n",
    "the_stats = cerebro.run()\n",
    "the_stat = the_stats[0]\n",
    "\n",
    "print(\"Sharpe Ratio:\", the_stat.analyzers.mysharpe.get_analysis())\n"
   ],
   "metadata": {
    "collapsed": false,
    "pycharm": {
     "name": "#%%\n",
     "is_executing": true
    }
   }
  }
 ],
 "metadata": {
  "kernelspec": {
   "display_name": "Python 3",
   "language": "python",
   "name": "python3"
  },
  "language_info": {
   "codemirror_mode": {
    "name": "ipython",
    "version": 2
   },
   "file_extension": ".py",
   "mimetype": "text/x-python",
   "name": "python",
   "nbconvert_exporter": "python",
   "pygments_lexer": "ipython2",
   "version": "2.7.6"
  }
 },
 "nbformat": 4,
 "nbformat_minor": 0
}