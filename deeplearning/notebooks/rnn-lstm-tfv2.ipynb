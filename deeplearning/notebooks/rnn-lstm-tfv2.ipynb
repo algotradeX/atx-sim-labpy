{
 "cells": [
  {
   "cell_type": "markdown",
   "metadata": {
    "collapsed": true,
    "pycharm": {
     "name": "#%% md\n"
    }
   },
   "source": [
    "# Price Prediction using RNN - LSTM"
   ]
  },
  {
   "cell_type": "code",
   "execution_count": 1,
   "outputs": [],
   "source": [
    "import matplotlib.pyplot as plt\n",
    "import numpy as np\n",
    "import pandas as pd\n",
    "from sklearn.preprocessing import MinMaxScaler"
   ],
   "metadata": {
    "collapsed": false,
    "pycharm": {
     "name": "#%%\n"
    }
   }
  },
  {
   "cell_type": "code",
   "execution_count": 2,
   "outputs": [
    {
     "name": "stdout",
     "output_type": "stream",
     "text": [
      "csv_filepath ../../datasets/NSE/Quote-Equity-HDFC-EQ-29-08-2018-to-20-08-2020.csv\n"
     ]
    }
   ],
   "source": [
    "csv_filepath:str = \"../../datasets/NSE/Quote-Equity-HDFC-EQ-29-08-2018-to-20-08-2020.csv\"\n",
    "print(f\"csv_filepath {csv_filepath}\")\n",
    "date_column:str = \"Date \"\n",
    "open_column:str = \"OPEN \"\n",
    "high_column:str = \"HIGH \"\n",
    "low_column:str = \"LOW \"\n",
    "close_column:str = \"close \"\n",
    "volume_column:str = \"VOLUME \"\n",
    "date_column_index:int = 3\n",
    "np.set_printoptions(suppress=True)"
   ],
   "metadata": {
    "collapsed": false,
    "pycharm": {
     "name": "#%%\n"
    }
   }
  },
  {
   "cell_type": "code",
   "execution_count": 3,
   "outputs": [
    {
     "name": "stdout",
     "output_type": "stream",
     "text": [
      "df keys\n",
      "Index(['Date ', 'series ', 'OPEN ', 'HIGH ', 'LOW ', 'PREV. CLOSE ', 'ltp ',\n",
      "       'close ', 'vwap ', '52W H ', '52W L ', 'VOLUME ', 'VALUE ',\n",
      "       'No of trades '],\n",
      "      dtype='object')\n"
     ]
    },
    {
     "data": {
      "text/plain": "       Date  series      OPEN      HIGH       LOW  PREV. CLOSE       ltp   \\\n0 2020-08-19      EQ  1,835.00  1,835.90  1,818.05     1,820.70  1,827.55   \n1 2020-08-18      EQ  1,801.10  1,825.40  1,795.95     1,800.55  1,819.05   \n2 2020-08-17      EQ  1,805.00  1,807.85  1,783.85     1,791.70  1,801.95   \n3 2020-08-14      EQ  1,818.60  1,823.75  1,773.25     1,804.85  1,793.75   \n4 2020-08-13      EQ  1,818.50  1,823.65  1,799.55     1,814.20  1,810.00   \n\n     close      vwap     52W H     52W L   VOLUME              VALUE   \\\n0  1,827.95  1,828.01  2,499.90  1,473.45  2934730   5,364,712,976.60   \n1  1,820.70  1,813.53  2,499.90  1,473.45  3413536   6,190,549,505.40   \n2  1,800.55  1,795.17  2,499.90  1,473.45  4076960   7,318,829,944.15   \n3  1,791.70  1,796.65  2,499.90  1,473.45  6136766  11,025,637,096.85   \n4  1,804.85  1,807.52  2,499.90  1,473.45  3769538   6,813,503,042.60   \n\n   No of trades   \n0          85358  \n1         141811  \n2         148103  \n3         186319  \n4         129725  ",
      "text/html": "<div>\n<style scoped>\n    .dataframe tbody tr th:only-of-type {\n        vertical-align: middle;\n    }\n\n    .dataframe tbody tr th {\n        vertical-align: top;\n    }\n\n    .dataframe thead th {\n        text-align: right;\n    }\n</style>\n<table border=\"1\" class=\"dataframe\">\n  <thead>\n    <tr style=\"text-align: right;\">\n      <th></th>\n      <th>Date</th>\n      <th>series</th>\n      <th>OPEN</th>\n      <th>HIGH</th>\n      <th>LOW</th>\n      <th>PREV. CLOSE</th>\n      <th>ltp</th>\n      <th>close</th>\n      <th>vwap</th>\n      <th>52W H</th>\n      <th>52W L</th>\n      <th>VOLUME</th>\n      <th>VALUE</th>\n      <th>No of trades</th>\n    </tr>\n  </thead>\n  <tbody>\n    <tr>\n      <th>0</th>\n      <td>2020-08-19</td>\n      <td>EQ</td>\n      <td>1,835.00</td>\n      <td>1,835.90</td>\n      <td>1,818.05</td>\n      <td>1,820.70</td>\n      <td>1,827.55</td>\n      <td>1,827.95</td>\n      <td>1,828.01</td>\n      <td>2,499.90</td>\n      <td>1,473.45</td>\n      <td>2934730</td>\n      <td>5,364,712,976.60</td>\n      <td>85358</td>\n    </tr>\n    <tr>\n      <th>1</th>\n      <td>2020-08-18</td>\n      <td>EQ</td>\n      <td>1,801.10</td>\n      <td>1,825.40</td>\n      <td>1,795.95</td>\n      <td>1,800.55</td>\n      <td>1,819.05</td>\n      <td>1,820.70</td>\n      <td>1,813.53</td>\n      <td>2,499.90</td>\n      <td>1,473.45</td>\n      <td>3413536</td>\n      <td>6,190,549,505.40</td>\n      <td>141811</td>\n    </tr>\n    <tr>\n      <th>2</th>\n      <td>2020-08-17</td>\n      <td>EQ</td>\n      <td>1,805.00</td>\n      <td>1,807.85</td>\n      <td>1,783.85</td>\n      <td>1,791.70</td>\n      <td>1,801.95</td>\n      <td>1,800.55</td>\n      <td>1,795.17</td>\n      <td>2,499.90</td>\n      <td>1,473.45</td>\n      <td>4076960</td>\n      <td>7,318,829,944.15</td>\n      <td>148103</td>\n    </tr>\n    <tr>\n      <th>3</th>\n      <td>2020-08-14</td>\n      <td>EQ</td>\n      <td>1,818.60</td>\n      <td>1,823.75</td>\n      <td>1,773.25</td>\n      <td>1,804.85</td>\n      <td>1,793.75</td>\n      <td>1,791.70</td>\n      <td>1,796.65</td>\n      <td>2,499.90</td>\n      <td>1,473.45</td>\n      <td>6136766</td>\n      <td>11,025,637,096.85</td>\n      <td>186319</td>\n    </tr>\n    <tr>\n      <th>4</th>\n      <td>2020-08-13</td>\n      <td>EQ</td>\n      <td>1,818.50</td>\n      <td>1,823.65</td>\n      <td>1,799.55</td>\n      <td>1,814.20</td>\n      <td>1,810.00</td>\n      <td>1,804.85</td>\n      <td>1,807.52</td>\n      <td>2,499.90</td>\n      <td>1,473.45</td>\n      <td>3769538</td>\n      <td>6,813,503,042.60</td>\n      <td>129725</td>\n    </tr>\n  </tbody>\n</table>\n</div>"
     },
     "execution_count": 3,
     "metadata": {},
     "output_type": "execute_result"
    }
   ],
   "source": [
    "df = pd.read_csv(csv_filepath, date_parser=True, header=0)\n",
    "print(f\"df keys\")\n",
    "print(f\"{df.keys()}\")\n",
    "# Sort DataFrame by date\n",
    "df[date_column]=pd.to_datetime(df[date_column])\n",
    "df.head()"
   ],
   "metadata": {
    "collapsed": false,
    "pycharm": {
     "name": "#%%\n"
    }
   }
  },
  {
   "cell_type": "code",
   "execution_count": 4,
   "outputs": [
    {
     "data": {
      "text/plain": "         Date    OPEN     HIGH      LOW    close   VOLUME \n485 2018-08-29  1959.4  1971.40  1944.70  1956.25  2367281\n484 2018-08-30  1950.0  1964.45  1928.25  1934.15  2466442\n483 2018-08-31  1940.9  1942.45  1908.05  1935.95  3856093\n482 2018-09-03  1950.0  1950.00  1928.10  1944.80  2310201\n481 2018-09-04  1939.0  1959.65  1939.00  1954.80  2928533",
      "text/html": "<div>\n<style scoped>\n    .dataframe tbody tr th:only-of-type {\n        vertical-align: middle;\n    }\n\n    .dataframe tbody tr th {\n        vertical-align: top;\n    }\n\n    .dataframe thead th {\n        text-align: right;\n    }\n</style>\n<table border=\"1\" class=\"dataframe\">\n  <thead>\n    <tr style=\"text-align: right;\">\n      <th></th>\n      <th>Date</th>\n      <th>OPEN</th>\n      <th>HIGH</th>\n      <th>LOW</th>\n      <th>close</th>\n      <th>VOLUME</th>\n    </tr>\n  </thead>\n  <tbody>\n    <tr>\n      <th>485</th>\n      <td>2018-08-29</td>\n      <td>1959.4</td>\n      <td>1971.40</td>\n      <td>1944.70</td>\n      <td>1956.25</td>\n      <td>2367281</td>\n    </tr>\n    <tr>\n      <th>484</th>\n      <td>2018-08-30</td>\n      <td>1950.0</td>\n      <td>1964.45</td>\n      <td>1928.25</td>\n      <td>1934.15</td>\n      <td>2466442</td>\n    </tr>\n    <tr>\n      <th>483</th>\n      <td>2018-08-31</td>\n      <td>1940.9</td>\n      <td>1942.45</td>\n      <td>1908.05</td>\n      <td>1935.95</td>\n      <td>3856093</td>\n    </tr>\n    <tr>\n      <th>482</th>\n      <td>2018-09-03</td>\n      <td>1950.0</td>\n      <td>1950.00</td>\n      <td>1928.10</td>\n      <td>1944.80</td>\n      <td>2310201</td>\n    </tr>\n    <tr>\n      <th>481</th>\n      <td>2018-09-04</td>\n      <td>1939.0</td>\n      <td>1959.65</td>\n      <td>1939.00</td>\n      <td>1954.80</td>\n      <td>2928533</td>\n    </tr>\n  </tbody>\n</table>\n</div>"
     },
     "execution_count": 4,
     "metadata": {},
     "output_type": "execute_result"
    }
   ],
   "source": [
    "df[date_column] = pd.to_datetime(df[date_column]).astype('datetime64[ns]')\n",
    "df[open_column] = df[open_column].transform(func=lambda x: \"\".join(str(x).split(\",\"))).astype(float)\n",
    "df[high_column] = df[high_column].transform(func=lambda x: \"\".join(str(x).split(\",\"))).astype(float)\n",
    "df[low_column] = df[low_column].transform(func=lambda x: \"\".join(str(x).split(\",\"))).astype(float)\n",
    "df[close_column] = df[close_column].transform(func=lambda x: \"\".join(str(x).split(\",\"))).astype(float)\n",
    "df[volume_column] = df[volume_column].transform(func=lambda x: \"\".join(str(x).split(\",\"))).astype(int)\n",
    "df = df[[date_column, open_column, high_column, low_column, close_column, volume_column]]\n",
    "df = df.sort_values(by=[date_column], ascending=True)\n",
    "df.head()"
   ],
   "metadata": {
    "collapsed": false,
    "pycharm": {
     "name": "#%%\n"
    }
   }
  },
  {
   "cell_type": "code",
   "execution_count": 5,
   "outputs": [
    {
     "data": {
      "text/plain": "<Figure size 432x288 with 3 Axes>",
      "image/png": "[encoded data removed]"
     },
     "metadata": {
      "needs_background": "light"
     },
     "output_type": "display_data"
    }
   ],
   "source": [
    "date_time = pd.to_datetime(df[date_column], format='%Y-%m-%d')\n",
    "\n",
    "plot_cols = [close_column, high_column, volume_column]\n",
    "plot_features = df[plot_cols]\n",
    "plot_features.index = date_time\n",
    "_ = plot_features.plot(subplots=True)"
   ],
   "metadata": {
    "collapsed": false,
    "pycharm": {
     "name": "#%%\n"
    }
   }
  },
  {
   "cell_type": "code",
   "execution_count": 6,
   "outputs": [
    {
     "data": {
      "text/plain": "       OPEN     HIGH      LOW    close   VOLUME \n485  1959.40  1971.40  1944.70  1956.25  2367281\n484  1950.00  1964.45  1928.25  1934.15  2466442\n483  1940.90  1942.45  1908.05  1935.95  3856093\n482  1950.00  1950.00  1928.10  1944.80  2310201\n481  1939.00  1959.65  1939.00  1954.80  2928533\n..       ...      ...      ...      ...      ...\n150  2461.10  2471.05  2441.00  2462.55  3401754\n149  2463.65  2499.90  2446.60  2492.30  2549328\n148  2483.95  2495.00  2453.55  2488.60  2279961\n147  2486.00  2495.75  2471.80  2482.10  1794295\n146  2467.75  2479.00  2448.25  2453.95  2250437\n\n[340 rows x 5 columns]",
      "text/html": "<div>\n<style scoped>\n    .dataframe tbody tr th:only-of-type {\n        vertical-align: middle;\n    }\n\n    .dataframe tbody tr th {\n        vertical-align: top;\n    }\n\n    .dataframe thead th {\n        text-align: right;\n    }\n</style>\n<table border=\"1\" class=\"dataframe\">\n  <thead>\n    <tr style=\"text-align: right;\">\n      <th></th>\n      <th>OPEN</th>\n      <th>HIGH</th>\n      <th>LOW</th>\n      <th>close</th>\n      <th>VOLUME</th>\n    </tr>\n  </thead>\n  <tbody>\n    <tr>\n      <th>485</th>\n      <td>1959.40</td>\n      <td>1971.40</td>\n      <td>1944.70</td>\n      <td>1956.25</td>\n      <td>2367281</td>\n    </tr>\n    <tr>\n      <th>484</th>\n      <td>1950.00</td>\n      <td>1964.45</td>\n      <td>1928.25</td>\n      <td>1934.15</td>\n      <td>2466442</td>\n    </tr>\n    <tr>\n      <th>483</th>\n      <td>1940.90</td>\n      <td>1942.45</td>\n      <td>1908.05</td>\n      <td>1935.95</td>\n      <td>3856093</td>\n    </tr>\n    <tr>\n      <th>482</th>\n      <td>1950.00</td>\n      <td>1950.00</td>\n      <td>1928.10</td>\n      <td>1944.80</td>\n      <td>2310201</td>\n    </tr>\n    <tr>\n      <th>481</th>\n      <td>1939.00</td>\n      <td>1959.65</td>\n      <td>1939.00</td>\n      <td>1954.80</td>\n      <td>2928533</td>\n    </tr>\n    <tr>\n      <th>...</th>\n      <td>...</td>\n      <td>...</td>\n      <td>...</td>\n      <td>...</td>\n      <td>...</td>\n    </tr>\n    <tr>\n      <th>150</th>\n      <td>2461.10</td>\n      <td>2471.05</td>\n      <td>2441.00</td>\n      <td>2462.55</td>\n      <td>3401754</td>\n    </tr>\n    <tr>\n      <th>149</th>\n      <td>2463.65</td>\n      <td>2499.90</td>\n      <td>2446.60</td>\n      <td>2492.30</td>\n      <td>2549328</td>\n    </tr>\n    <tr>\n      <th>148</th>\n      <td>2483.95</td>\n      <td>2495.00</td>\n      <td>2453.55</td>\n      <td>2488.60</td>\n      <td>2279961</td>\n    </tr>\n    <tr>\n      <th>147</th>\n      <td>2486.00</td>\n      <td>2495.75</td>\n      <td>2471.80</td>\n      <td>2482.10</td>\n      <td>1794295</td>\n    </tr>\n    <tr>\n      <th>146</th>\n      <td>2467.75</td>\n      <td>2479.00</td>\n      <td>2448.25</td>\n      <td>2453.95</td>\n      <td>2250437</td>\n    </tr>\n  </tbody>\n</table>\n<p>340 rows × 5 columns</p>\n</div>"
     },
     "execution_count": 6,
     "metadata": {},
     "output_type": "execute_result"
    }
   ],
   "source": [
    "df = df.drop([date_column], axis=1)\n",
    "n = len(df)\n",
    "train_df = df[0:int(n*0.7)]\n",
    "val_df = df[int(n*0.65):int(n*0.99)]\n",
    "test_df = df[int(n*0.85):]\n",
    "train_df"
   ],
   "metadata": {
    "collapsed": false,
    "pycharm": {
     "name": "#%%\n"
    }
   }
  },
  {
   "cell_type": "code",
   "execution_count": 7,
   "outputs": [
    {
     "data": {
      "text/plain": "array([[0.37384067, 0.34769193, 0.36286716, 0.3572542 , 0.12405331],\n       [0.3626635 , 0.3391138 , 0.3429832 , 0.3307554 , 0.12953814],\n       [0.35184304, 0.31196001, 0.31856642, 0.33291367, 0.20640306],\n       ...,\n       [0.99756243, 0.99395211, 0.97794029, 0.99556355, 0.11922343],\n       [1.        , 0.99487781, 1.        , 0.98776978, 0.09236008],\n       [0.97829964, 0.9742039 , 0.97153391, 0.95401679, 0.11759039]])"
     },
     "execution_count": 7,
     "metadata": {},
     "output_type": "execute_result"
    }
   ],
   "source": [
    "scaler = MinMaxScaler()\n",
    "scaled_train_df = scaler.fit_transform(train_df)\n",
    "scaled_train_df"
   ],
   "metadata": {
    "collapsed": false,
    "pycharm": {
     "name": "#%%\n"
    }
   }
  },
  {
   "cell_type": "code",
   "execution_count": 8,
   "outputs": [],
   "source": [
    "X_train = []\n",
    "Y_train = []\n",
    "window_size = 60\n",
    "for i in range(window_size, scaled_train_df.shape[0]):\n",
    "    X_train.append(scaled_train_df[i-window_size: i])\n",
    "    Y_train.append(scaled_train_df[i])"
   ],
   "metadata": {
    "collapsed": false,
    "pycharm": {
     "name": "#%%\n"
    }
   }
  },
  {
   "cell_type": "code",
   "execution_count": 9,
   "outputs": [
    {
     "data": {
      "text/plain": "((280, 60, 5), (280, 5))"
     },
     "execution_count": 9,
     "metadata": {},
     "output_type": "execute_result"
    }
   ],
   "source": [
    "x_train = np.array(X_train)\n",
    "y_train = np.array(Y_train)\n",
    "x_train.shape, y_train.shape"
   ],
   "metadata": {
    "collapsed": false,
    "pycharm": {
     "name": "#%%\n"
    }
   }
  },
  {
   "cell_type": "markdown",
   "source": [
    "## Building LSTM"
   ],
   "metadata": {
    "collapsed": false
   }
  },
  {
   "cell_type": "code",
   "execution_count": 10,
   "outputs": [],
   "source": [
    "from tensorflow.keras import Sequential\n",
    "from tensorflow.keras.layers import Dense, LSTM, Dropout"
   ],
   "metadata": {
    "collapsed": false,
    "pycharm": {
     "name": "#%%\n"
    }
   }
  },
  {
   "cell_type": "code",
   "execution_count": 11,
   "outputs": [
    {
     "name": "stdout",
     "output_type": "stream",
     "text": [
      "Model: \"sequential\"\n",
      "_________________________________________________________________\n",
      "Layer (type)                 Output Shape              Param #   \n",
      "=================================================================\n",
      "lstm (LSTM)                  (None, 60, 240)           236160    \n",
      "_________________________________________________________________\n",
      "dropout (Dropout)            (None, 60, 240)           0         \n",
      "_________________________________________________________________\n",
      "lstm_1 (LSTM)                (None, 60, 120)           173280    \n",
      "_________________________________________________________________\n",
      "dropout_1 (Dropout)          (None, 60, 120)           0         \n",
      "_________________________________________________________________\n",
      "lstm_2 (LSTM)                (None, 60, 60)            43440     \n",
      "_________________________________________________________________\n",
      "dropout_2 (Dropout)          (None, 60, 60)            0         \n",
      "_________________________________________________________________\n",
      "lstm_3 (LSTM)                (None, 30)                10920     \n",
      "_________________________________________________________________\n",
      "dropout_3 (Dropout)          (None, 30)                0         \n",
      "_________________________________________________________________\n",
      "dense (Dense)                (None, 1)                 31        \n",
      "=================================================================\n",
      "Total params: 463,831\n",
      "Trainable params: 463,831\n",
      "Non-trainable params: 0\n",
      "_________________________________________________________________\n"
     ]
    }
   ],
   "source": [
    "model = Sequential()\n",
    "model.add(LSTM(units=240, activation=\"tanh\", return_sequences=True, input_shape=(x_train.shape[1], x_train.shape[2])))\n",
    "model.add(Dropout(0.2))\n",
    "\n",
    "model.add(LSTM(units=120, activation=\"tanh\", return_sequences=True))\n",
    "model.add(Dropout(0.2))\n",
    "\n",
    "model.add(LSTM(units=60, activation=\"tanh\", return_sequences=True))\n",
    "model.add(Dropout(0.2))\n",
    "\n",
    "model.add(LSTM(units=30, activation=\"tanh\"))\n",
    "model.add(Dropout(0.2))\n",
    "\n",
    "model.add(Dense(units=1))\n",
    "model.summary()"
   ],
   "metadata": {
    "collapsed": false,
    "pycharm": {
     "name": "#%%\n"
    }
   }
  },
  {
   "cell_type": "code",
   "execution_count": 12,
   "outputs": [],
   "source": [
    "model.compile(optimizer=\"adam\", loss=\"mean_squared_error\")"
   ],
   "metadata": {
    "collapsed": false,
    "pycharm": {
     "name": "#%%\n"
    }
   }
  },
  {
   "cell_type": "code",
   "execution_count": 13,
   "outputs": [
    {
     "name": "stdout",
     "output_type": "stream",
     "text": [
      "Epoch 1/50\n",
      "9/9 - 1s - loss: 0.0895\n",
      "Epoch 2/50\n",
      "9/9 - 1s - loss: 0.0454\n",
      "Epoch 3/50\n",
      "9/9 - 1s - loss: 0.0419\n",
      "Epoch 4/50\n",
      "9/9 - 1s - loss: 0.0379\n",
      "Epoch 5/50\n",
      "9/9 - 1s - loss: 0.0379\n",
      "Epoch 6/50\n",
      "9/9 - 1s - loss: 0.0358\n",
      "Epoch 7/50\n",
      "9/9 - 2s - loss: 0.0357\n",
      "Epoch 8/50\n",
      "9/9 - 2s - loss: 0.0351\n",
      "Epoch 9/50\n",
      "9/9 - 1s - loss: 0.0357\n",
      "Epoch 10/50\n",
      "9/9 - 1s - loss: 0.0362\n",
      "Epoch 11/50\n",
      "9/9 - 2s - loss: 0.0356\n",
      "Epoch 12/50\n",
      "9/9 - 2s - loss: 0.0349\n",
      "Epoch 13/50\n",
      "9/9 - 1s - loss: 0.0351\n",
      "Epoch 14/50\n",
      "9/9 - 2s - loss: 0.0342\n",
      "Epoch 15/50\n",
      "9/9 - 1s - loss: 0.0352\n",
      "Epoch 16/50\n",
      "9/9 - 1s - loss: 0.0359\n",
      "Epoch 17/50\n",
      "9/9 - 1s - loss: 0.0357\n",
      "Epoch 18/50\n",
      "9/9 - 1s - loss: 0.0358\n",
      "Epoch 19/50\n",
      "9/9 - 1s - loss: 0.0351\n",
      "Epoch 20/50\n",
      "9/9 - 1s - loss: 0.0350\n",
      "Epoch 21/50\n",
      "9/9 - 2s - loss: 0.0353\n",
      "Epoch 22/50\n",
      "9/9 - 1s - loss: 0.0323\n",
      "Epoch 23/50\n",
      "9/9 - 1s - loss: 0.0349\n",
      "Epoch 24/50\n",
      "9/9 - 1s - loss: 0.0347\n",
      "Epoch 25/50\n",
      "9/9 - 1s - loss: 0.0337\n",
      "Epoch 26/50\n",
      "9/9 - 1s - loss: 0.0349\n",
      "Epoch 27/50\n",
      "9/9 - 1s - loss: 0.0347\n",
      "Epoch 28/50\n",
      "9/9 - 1s - loss: 0.0344\n",
      "Epoch 29/50\n",
      "9/9 - 1s - loss: 0.0343\n",
      "Epoch 30/50\n",
      "9/9 - 1s - loss: 0.0345\n",
      "Epoch 31/50\n",
      "9/9 - 1s - loss: 0.0333\n",
      "Epoch 32/50\n",
      "9/9 - 1s - loss: 0.0340\n",
      "Epoch 33/50\n",
      "9/9 - 1s - loss: 0.0343\n",
      "Epoch 34/50\n",
      "9/9 - 1s - loss: 0.0337\n",
      "Epoch 35/50\n",
      "9/9 - 1s - loss: 0.0336\n",
      "Epoch 36/50\n",
      "9/9 - 2s - loss: 0.0351\n",
      "Epoch 37/50\n",
      "9/9 - 2s - loss: 0.0334\n",
      "Epoch 38/50\n",
      "9/9 - 2s - loss: 0.0330\n",
      "Epoch 39/50\n",
      "9/9 - 2s - loss: 0.0336\n",
      "Epoch 40/50\n",
      "9/9 - 2s - loss: 0.0331\n",
      "Epoch 41/50\n",
      "9/9 - 2s - loss: 0.0333\n",
      "Epoch 42/50\n",
      "9/9 - 2s - loss: 0.0333\n",
      "Epoch 43/50\n",
      "9/9 - 2s - loss: 0.0333\n",
      "Epoch 44/50\n",
      "9/9 - 2s - loss: 0.0331\n",
      "Epoch 45/50\n",
      "9/9 - 1s - loss: 0.0332\n",
      "Epoch 46/50\n",
      "9/9 - 1s - loss: 0.0341\n",
      "Epoch 47/50\n",
      "9/9 - 1s - loss: 0.0337\n",
      "Epoch 48/50\n",
      "9/9 - 1s - loss: 0.0331\n",
      "Epoch 49/50\n",
      "9/9 - 2s - loss: 0.0337\n",
      "Epoch 50/50\n",
      "9/9 - 1s - loss: 0.0333\n"
     ]
    },
    {
     "data": {
      "text/plain": "<tensorflow.python.keras.callbacks.History at 0x1412d0190>"
     },
     "execution_count": 13,
     "metadata": {},
     "output_type": "execute_result"
    }
   ],
   "source": [
    "model.fit(x_train, y_train, epochs=50, batch_size=32, verbose=1)"
   ],
   "metadata": {
    "collapsed": false,
    "pycharm": {
     "name": "#%%\n"
    }
   }
  },
  {
   "cell_type": "markdown",
   "source": [
    "### Validation"
   ],
   "metadata": {
    "collapsed": false,
    "pycharm": {
     "name": "#%% md\n"
    }
   }
  },
  {
   "cell_type": "code",
   "execution_count": 14,
   "outputs": [
    {
     "data": {
      "text/plain": "     OPEN     HIGH      LOW    close   VOLUME \n0  2150.00  2174.20  2141.35  2144.95  4061508\n1  2149.00  2153.45  2085.25  2101.55  3099190\n2  2114.95  2120.00  2096.80  2105.35   280920\n3  2095.00  2123.55  2079.05  2113.05  2732339\n4  2134.95  2134.95  2102.60  2107.45  2347585",
      "text/html": "<div>\n<style scoped>\n    .dataframe tbody tr th:only-of-type {\n        vertical-align: middle;\n    }\n\n    .dataframe tbody tr th {\n        vertical-align: top;\n    }\n\n    .dataframe thead th {\n        text-align: right;\n    }\n</style>\n<table border=\"1\" class=\"dataframe\">\n  <thead>\n    <tr style=\"text-align: right;\">\n      <th></th>\n      <th>OPEN</th>\n      <th>HIGH</th>\n      <th>LOW</th>\n      <th>close</th>\n      <th>VOLUME</th>\n    </tr>\n  </thead>\n  <tbody>\n    <tr>\n      <th>0</th>\n      <td>2150.00</td>\n      <td>2174.20</td>\n      <td>2141.35</td>\n      <td>2144.95</td>\n      <td>4061508</td>\n    </tr>\n    <tr>\n      <th>1</th>\n      <td>2149.00</td>\n      <td>2153.45</td>\n      <td>2085.25</td>\n      <td>2101.55</td>\n      <td>3099190</td>\n    </tr>\n    <tr>\n      <th>2</th>\n      <td>2114.95</td>\n      <td>2120.00</td>\n      <td>2096.80</td>\n      <td>2105.35</td>\n      <td>280920</td>\n    </tr>\n    <tr>\n      <th>3</th>\n      <td>2095.00</td>\n      <td>2123.55</td>\n      <td>2079.05</td>\n      <td>2113.05</td>\n      <td>2732339</td>\n    </tr>\n    <tr>\n      <th>4</th>\n      <td>2134.95</td>\n      <td>2134.95</td>\n      <td>2102.60</td>\n      <td>2107.45</td>\n      <td>2347585</td>\n    </tr>\n  </tbody>\n</table>\n</div>"
     },
     "execution_count": 14,
     "metadata": {},
     "output_type": "execute_result"
    }
   ],
   "source": [
    "val_past_60_days = train_df.tail(window_size)\n",
    "val_df = val_past_60_days.append(val_df, ignore_index=True)\n",
    "val_df.head()"
   ],
   "metadata": {
    "collapsed": false,
    "pycharm": {
     "name": "#%%\n"
    }
   }
  },
  {
   "cell_type": "code",
   "execution_count": 15,
   "outputs": [
    {
     "data": {
      "text/plain": "(226, 5)"
     },
     "execution_count": 15,
     "metadata": {},
     "output_type": "execute_result"
    }
   ],
   "source": [
    "scaled_val_df = scaler.transform(val_df)\n",
    "scaled_val_df.shape"
   ],
   "metadata": {
    "collapsed": false,
    "pycharm": {
     "name": "#%%\n"
    }
   }
  },
  {
   "cell_type": "code",
   "execution_count": 16,
   "outputs": [],
   "source": [
    "X_val = []\n",
    "Y_val = []\n",
    "for i in range(window_size, scaled_val_df.shape[0]):\n",
    "    X_val.append(scaled_val_df[i-window_size: i])\n",
    "    Y_val.append(scaled_val_df[i])"
   ],
   "metadata": {
    "collapsed": false,
    "pycharm": {
     "name": "#%%\n"
    }
   }
  },
  {
   "cell_type": "code",
   "execution_count": 17,
   "outputs": [
    {
     "data": {
      "text/plain": "((166, 60, 5), (166, 5))"
     },
     "execution_count": 17,
     "metadata": {},
     "output_type": "execute_result"
    }
   ],
   "source": [
    "x_val = np.array(X_val)\n",
    "y_val = np.array(Y_val)\n",
    "x_val.shape, y_val.shape"
   ],
   "metadata": {
    "collapsed": false,
    "pycharm": {
     "name": "#%%\n"
    }
   }
  },
  {
   "cell_type": "code",
   "execution_count": 18,
   "outputs": [
    {
     "data": {
      "text/plain": "(166, 1)"
     },
     "execution_count": 18,
     "metadata": {},
     "output_type": "execute_result"
    }
   ],
   "source": [
    "y_val_predicted = model.predict(x_val)\n",
    "y_val_predicted.shape"
   ],
   "metadata": {
    "collapsed": false,
    "pycharm": {
     "name": "#%%\n"
    }
   }
  },
  {
   "cell_type": "code",
   "execution_count": 19,
   "outputs": [
    {
     "data": {
      "text/plain": "array([0.00118906, 0.00123426, 0.00120875, 0.00119904, 0.00000006])"
     },
     "execution_count": 19,
     "metadata": {},
     "output_type": "execute_result"
    }
   ],
   "source": [
    "scaler.scale_"
   ],
   "metadata": {
    "collapsed": false,
    "pycharm": {
     "name": "#%%\n"
    }
   }
  },
  {
   "cell_type": "code",
   "execution_count": 20,
   "outputs": [
    {
     "data": {
      "text/plain": "(array([     841. ,      810.2,      827.3,      834. , 18079131. ]),\n array([  1645. ,   1689.7,   1644.5,   1658.3, 124505. ]),\n array([    2486. ,     2499.9,     2471.8,     2492.3, 18203636. ]))"
     },
     "execution_count": 20,
     "metadata": {},
     "output_type": "execute_result"
    }
   ],
   "source": [
    "scale = 1 / scaler.scale_\n",
    "scale, scaler.data_min_, scaler.data_max_\n"
   ],
   "metadata": {
    "collapsed": false,
    "pycharm": {
     "name": "#%%\n"
    }
   }
  },
  {
   "cell_type": "code",
   "execution_count": 21,
   "outputs": [
    {
     "data": {
      "text/plain": "((166, 1), (166,))"
     },
     "execution_count": 21,
     "metadata": {},
     "output_type": "execute_result"
    }
   ],
   "source": [
    "Y_predicted = y_val_predicted*scale[date_column_index] + scaler.data_min_[date_column_index]\n",
    "Y_values = scaler.inverse_transform(scaled_val_df)\n",
    "Y_actual = Y_values[:, date_column_index][window_size:]\n",
    "Y_predicted.shape, Y_actual.shape"
   ],
   "metadata": {
    "collapsed": false,
    "pycharm": {
     "name": "#%%\n"
    }
   }
  },
  {
   "cell_type": "markdown",
   "source": [
    "## Visualization"
   ],
   "metadata": {
    "collapsed": false,
    "pycharm": {
     "name": "#%% md\n"
    }
   }
  },
  {
   "cell_type": "code",
   "execution_count": 22,
   "outputs": [
    {
     "data": {
      "text/plain": "<Figure size 1008x360 with 1 Axes>",
      "image/png": "[encoded data removed]"
     },
     "metadata": {
      "needs_background": "light"
     },
     "output_type": "display_data"
    }
   ],
   "source": [
    "plt.figure(figsize=(14,5))\n",
    "plt.plot(Y_actual, color=\"red\", label=\"Actual close price\")\n",
    "plt.plot(Y_predicted, color=\"blue\", label=\"Predicted close price\")\n",
    "plt.legend()\n",
    "plt.show()\n"
   ],
   "metadata": {
    "collapsed": false,
    "pycharm": {
     "name": "#%%\n"
    }
   }
  }
 ],
 "metadata": {
  "kernelspec": {
   "display_name": "Python 3",
   "language": "python",
   "name": "python3"
  },
  "language_info": {
   "codemirror_mode": {
    "name": "ipython",
    "version": 2
   },
   "file_extension": ".py",
   "mimetype": "text/x-python",
   "name": "python",
   "nbconvert_exporter": "python",
   "pygments_lexer": "ipython2",
   "version": "2.7.6"
  }
 },
 "nbformat": 4,
 "nbformat_minor": 0
}