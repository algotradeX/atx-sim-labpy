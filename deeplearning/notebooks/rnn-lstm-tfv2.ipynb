{
 "cells": [
  {
   "cell_type": "markdown",
   "metadata": {
    "collapsed": true,
    "pycharm": {
     "name": "#%% md\n"
    }
   },
   "source": [
    "# Price Prediction using RNN - LSTM"
   ]
  },
  {
   "cell_type": "code",
   "execution_count": 36,
   "outputs": [],
   "source": [
    "import numpy as np\n",
    "import pandas as pd\n",
    "from sklearn.preprocessing import MinMaxScaler"
   ],
   "metadata": {
    "collapsed": false,
    "pycharm": {
     "name": "#%%\n"
    }
   }
  },
  {
   "cell_type": "code",
   "execution_count": 37,
   "outputs": [
    {
     "name": "stdout",
     "output_type": "stream",
     "text": [
      "csv_filepath ../../datasets/NSE/Quote-Equity-HDFC-EQ-29-08-2018-to-20-08-2020.csv\n"
     ]
    }
   ],
   "source": [
    "csv_filepath:str = \"../../datasets/NSE/Quote-Equity-HDFC-EQ-29-08-2018-to-20-08-2020.csv\"\n",
    "print(f\"csv_filepath {csv_filepath}\")\n",
    "date_column:str = \"Date \"\n",
    "open_column:str = \"OPEN \"\n",
    "high_column:str = \"HIGH \"\n",
    "low_column:str = \"LOW \"\n",
    "close_column:str = \"close \"\n",
    "volume_column:str = \"VOLUME \""
   ],
   "metadata": {
    "collapsed": false,
    "pycharm": {
     "name": "#%%\n"
    }
   }
  },
  {
   "cell_type": "code",
   "execution_count": 38,
   "outputs": [
    {
     "name": "stdout",
     "output_type": "stream",
     "text": [
      "df keys\n",
      "Index(['Date ', 'series ', 'OPEN ', 'HIGH ', 'LOW ', 'PREV. CLOSE ', 'ltp ',\n",
      "       'close ', 'vwap ', '52W H ', '52W L ', 'VOLUME ', 'VALUE ',\n",
      "       'No of trades '],\n",
      "      dtype='object')\n"
     ]
    },
    {
     "data": {
      "text/plain": "       Date  series      OPEN      HIGH       LOW  PREV. CLOSE       ltp   \\\n0 2020-08-19      EQ  1,835.00  1,835.90  1,818.05     1,820.70  1,827.55   \n1 2020-08-18      EQ  1,801.10  1,825.40  1,795.95     1,800.55  1,819.05   \n2 2020-08-17      EQ  1,805.00  1,807.85  1,783.85     1,791.70  1,801.95   \n3 2020-08-14      EQ  1,818.60  1,823.75  1,773.25     1,804.85  1,793.75   \n4 2020-08-13      EQ  1,818.50  1,823.65  1,799.55     1,814.20  1,810.00   \n\n     close      vwap     52W H     52W L   VOLUME              VALUE   \\\n0  1,827.95  1,828.01  2,499.90  1,473.45  2934730   5,364,712,976.60   \n1  1,820.70  1,813.53  2,499.90  1,473.45  3413536   6,190,549,505.40   \n2  1,800.55  1,795.17  2,499.90  1,473.45  4076960   7,318,829,944.15   \n3  1,791.70  1,796.65  2,499.90  1,473.45  6136766  11,025,637,096.85   \n4  1,804.85  1,807.52  2,499.90  1,473.45  3769538   6,813,503,042.60   \n\n   No of trades   \n0          85358  \n1         141811  \n2         148103  \n3         186319  \n4         129725  ",
      "text/html": "<div>\n<style scoped>\n    .dataframe tbody tr th:only-of-type {\n        vertical-align: middle;\n    }\n\n    .dataframe tbody tr th {\n        vertical-align: top;\n    }\n\n    .dataframe thead th {\n        text-align: right;\n    }\n</style>\n<table border=\"1\" class=\"dataframe\">\n  <thead>\n    <tr style=\"text-align: right;\">\n      <th></th>\n      <th>Date</th>\n      <th>series</th>\n      <th>OPEN</th>\n      <th>HIGH</th>\n      <th>LOW</th>\n      <th>PREV. CLOSE</th>\n      <th>ltp</th>\n      <th>close</th>\n      <th>vwap</th>\n      <th>52W H</th>\n      <th>52W L</th>\n      <th>VOLUME</th>\n      <th>VALUE</th>\n      <th>No of trades</th>\n    </tr>\n  </thead>\n  <tbody>\n    <tr>\n      <th>0</th>\n      <td>2020-08-19</td>\n      <td>EQ</td>\n      <td>1,835.00</td>\n      <td>1,835.90</td>\n      <td>1,818.05</td>\n      <td>1,820.70</td>\n      <td>1,827.55</td>\n      <td>1,827.95</td>\n      <td>1,828.01</td>\n      <td>2,499.90</td>\n      <td>1,473.45</td>\n      <td>2934730</td>\n      <td>5,364,712,976.60</td>\n      <td>85358</td>\n    </tr>\n    <tr>\n      <th>1</th>\n      <td>2020-08-18</td>\n      <td>EQ</td>\n      <td>1,801.10</td>\n      <td>1,825.40</td>\n      <td>1,795.95</td>\n      <td>1,800.55</td>\n      <td>1,819.05</td>\n      <td>1,820.70</td>\n      <td>1,813.53</td>\n      <td>2,499.90</td>\n      <td>1,473.45</td>\n      <td>3413536</td>\n      <td>6,190,549,505.40</td>\n      <td>141811</td>\n    </tr>\n    <tr>\n      <th>2</th>\n      <td>2020-08-17</td>\n      <td>EQ</td>\n      <td>1,805.00</td>\n      <td>1,807.85</td>\n      <td>1,783.85</td>\n      <td>1,791.70</td>\n      <td>1,801.95</td>\n      <td>1,800.55</td>\n      <td>1,795.17</td>\n      <td>2,499.90</td>\n      <td>1,473.45</td>\n      <td>4076960</td>\n      <td>7,318,829,944.15</td>\n      <td>148103</td>\n    </tr>\n    <tr>\n      <th>3</th>\n      <td>2020-08-14</td>\n      <td>EQ</td>\n      <td>1,818.60</td>\n      <td>1,823.75</td>\n      <td>1,773.25</td>\n      <td>1,804.85</td>\n      <td>1,793.75</td>\n      <td>1,791.70</td>\n      <td>1,796.65</td>\n      <td>2,499.90</td>\n      <td>1,473.45</td>\n      <td>6136766</td>\n      <td>11,025,637,096.85</td>\n      <td>186319</td>\n    </tr>\n    <tr>\n      <th>4</th>\n      <td>2020-08-13</td>\n      <td>EQ</td>\n      <td>1,818.50</td>\n      <td>1,823.65</td>\n      <td>1,799.55</td>\n      <td>1,814.20</td>\n      <td>1,810.00</td>\n      <td>1,804.85</td>\n      <td>1,807.52</td>\n      <td>2,499.90</td>\n      <td>1,473.45</td>\n      <td>3769538</td>\n      <td>6,813,503,042.60</td>\n      <td>129725</td>\n    </tr>\n  </tbody>\n</table>\n</div>"
     },
     "execution_count": 38,
     "metadata": {},
     "output_type": "execute_result"
    }
   ],
   "source": [
    "df = pd.read_csv(csv_filepath, date_parser=True, header=0)\n",
    "print(f\"df keys\")\n",
    "print(f\"{df.keys()}\")\n",
    "# Sort DataFrame by date\n",
    "df[date_column]=pd.to_datetime(df[date_column])\n",
    "df.head()"
   ],
   "metadata": {
    "collapsed": false,
    "pycharm": {
     "name": "#%%\n"
    }
   }
  },
  {
   "cell_type": "code",
   "execution_count": 39,
   "outputs": [
    {
     "data": {
      "text/plain": "         Date    OPEN     HIGH      LOW    close   VOLUME \n485 2018-08-29  1959.4  1971.40  1944.70  1956.25  2367281\n484 2018-08-30  1950.0  1964.45  1928.25  1934.15  2466442\n483 2018-08-31  1940.9  1942.45  1908.05  1935.95  3856093\n482 2018-09-03  1950.0  1950.00  1928.10  1944.80  2310201\n481 2018-09-04  1939.0  1959.65  1939.00  1954.80  2928533",
      "text/html": "<div>\n<style scoped>\n    .dataframe tbody tr th:only-of-type {\n        vertical-align: middle;\n    }\n\n    .dataframe tbody tr th {\n        vertical-align: top;\n    }\n\n    .dataframe thead th {\n        text-align: right;\n    }\n</style>\n<table border=\"1\" class=\"dataframe\">\n  <thead>\n    <tr style=\"text-align: right;\">\n      <th></th>\n      <th>Date</th>\n      <th>OPEN</th>\n      <th>HIGH</th>\n      <th>LOW</th>\n      <th>close</th>\n      <th>VOLUME</th>\n    </tr>\n  </thead>\n  <tbody>\n    <tr>\n      <th>485</th>\n      <td>2018-08-29</td>\n      <td>1959.4</td>\n      <td>1971.40</td>\n      <td>1944.70</td>\n      <td>1956.25</td>\n      <td>2367281</td>\n    </tr>\n    <tr>\n      <th>484</th>\n      <td>2018-08-30</td>\n      <td>1950.0</td>\n      <td>1964.45</td>\n      <td>1928.25</td>\n      <td>1934.15</td>\n      <td>2466442</td>\n    </tr>\n    <tr>\n      <th>483</th>\n      <td>2018-08-31</td>\n      <td>1940.9</td>\n      <td>1942.45</td>\n      <td>1908.05</td>\n      <td>1935.95</td>\n      <td>3856093</td>\n    </tr>\n    <tr>\n      <th>482</th>\n      <td>2018-09-03</td>\n      <td>1950.0</td>\n      <td>1950.00</td>\n      <td>1928.10</td>\n      <td>1944.80</td>\n      <td>2310201</td>\n    </tr>\n    <tr>\n      <th>481</th>\n      <td>2018-09-04</td>\n      <td>1939.0</td>\n      <td>1959.65</td>\n      <td>1939.00</td>\n      <td>1954.80</td>\n      <td>2928533</td>\n    </tr>\n  </tbody>\n</table>\n</div>"
     },
     "execution_count": 39,
     "metadata": {},
     "output_type": "execute_result"
    }
   ],
   "source": [
    "df[date_column] = pd.to_datetime(df[date_column]).astype('datetime64[ns]')\n",
    "df[open_column] = df[open_column].transform(func=lambda x: \"\".join(str(x).split(\",\"))).astype(float)\n",
    "df[high_column] = df[high_column].transform(func=lambda x: \"\".join(str(x).split(\",\"))).astype(float)\n",
    "df[low_column] = df[low_column].transform(func=lambda x: \"\".join(str(x).split(\",\"))).astype(float)\n",
    "df[close_column] = df[close_column].transform(func=lambda x: \"\".join(str(x).split(\",\"))).astype(float)\n",
    "df[volume_column] = df[volume_column].transform(func=lambda x: \"\".join(str(x).split(\",\"))).astype(int)\n",
    "df = df[[date_column, open_column, high_column, low_column, close_column, volume_column]]\n",
    "df = df.sort_values(by=[date_column], ascending=True)\n",
    "df.head()"
   ],
   "metadata": {
    "collapsed": false,
    "pycharm": {
     "name": "#%%\n"
    }
   }
  },
  {
   "cell_type": "code",
   "execution_count": 40,
   "outputs": [
    {
     "data": {
      "text/plain": "<Figure size 432x288 with 3 Axes>",
      "image/png": "[encoded data removed]"
     },
     "metadata": {
      "needs_background": "light"
     },
     "output_type": "display_data"
    }
   ],
   "source": [
    "date_time = pd.to_datetime(df[date_column], format='%Y-%m-%d')\n",
    "\n",
    "plot_cols = [close_column, high_column, volume_column]\n",
    "plot_features = df[plot_cols]\n",
    "plot_features.index = date_time\n",
    "_ = plot_features.plot(subplots=True)"
   ],
   "metadata": {
    "collapsed": false,
    "pycharm": {
     "name": "#%%\n"
    }
   }
  },
  {
   "cell_type": "code",
   "execution_count": 41,
   "outputs": [
    {
     "data": {
      "text/plain": "       OPEN     HIGH      LOW    close   VOLUME \n485  1959.40  1971.40  1944.70  1956.25  2367281\n484  1950.00  1964.45  1928.25  1934.15  2466442\n483  1940.90  1942.45  1908.05  1935.95  3856093\n482  1950.00  1950.00  1928.10  1944.80  2310201\n481  1939.00  1959.65  1939.00  1954.80  2928533\n..       ...      ...      ...      ...      ...\n150  2461.10  2471.05  2441.00  2462.55  3401754\n149  2463.65  2499.90  2446.60  2492.30  2549328\n148  2483.95  2495.00  2453.55  2488.60  2279961\n147  2486.00  2495.75  2471.80  2482.10  1794295\n146  2467.75  2479.00  2448.25  2453.95  2250437\n\n[340 rows x 5 columns]",
      "text/html": "<div>\n<style scoped>\n    .dataframe tbody tr th:only-of-type {\n        vertical-align: middle;\n    }\n\n    .dataframe tbody tr th {\n        vertical-align: top;\n    }\n\n    .dataframe thead th {\n        text-align: right;\n    }\n</style>\n<table border=\"1\" class=\"dataframe\">\n  <thead>\n    <tr style=\"text-align: right;\">\n      <th></th>\n      <th>OPEN</th>\n      <th>HIGH</th>\n      <th>LOW</th>\n      <th>close</th>\n      <th>VOLUME</th>\n    </tr>\n  </thead>\n  <tbody>\n    <tr>\n      <th>485</th>\n      <td>1959.40</td>\n      <td>1971.40</td>\n      <td>1944.70</td>\n      <td>1956.25</td>\n      <td>2367281</td>\n    </tr>\n    <tr>\n      <th>484</th>\n      <td>1950.00</td>\n      <td>1964.45</td>\n      <td>1928.25</td>\n      <td>1934.15</td>\n      <td>2466442</td>\n    </tr>\n    <tr>\n      <th>483</th>\n      <td>1940.90</td>\n      <td>1942.45</td>\n      <td>1908.05</td>\n      <td>1935.95</td>\n      <td>3856093</td>\n    </tr>\n    <tr>\n      <th>482</th>\n      <td>1950.00</td>\n      <td>1950.00</td>\n      <td>1928.10</td>\n      <td>1944.80</td>\n      <td>2310201</td>\n    </tr>\n    <tr>\n      <th>481</th>\n      <td>1939.00</td>\n      <td>1959.65</td>\n      <td>1939.00</td>\n      <td>1954.80</td>\n      <td>2928533</td>\n    </tr>\n    <tr>\n      <th>...</th>\n      <td>...</td>\n      <td>...</td>\n      <td>...</td>\n      <td>...</td>\n      <td>...</td>\n    </tr>\n    <tr>\n      <th>150</th>\n      <td>2461.10</td>\n      <td>2471.05</td>\n      <td>2441.00</td>\n      <td>2462.55</td>\n      <td>3401754</td>\n    </tr>\n    <tr>\n      <th>149</th>\n      <td>2463.65</td>\n      <td>2499.90</td>\n      <td>2446.60</td>\n      <td>2492.30</td>\n      <td>2549328</td>\n    </tr>\n    <tr>\n      <th>148</th>\n      <td>2483.95</td>\n      <td>2495.00</td>\n      <td>2453.55</td>\n      <td>2488.60</td>\n      <td>2279961</td>\n    </tr>\n    <tr>\n      <th>147</th>\n      <td>2486.00</td>\n      <td>2495.75</td>\n      <td>2471.80</td>\n      <td>2482.10</td>\n      <td>1794295</td>\n    </tr>\n    <tr>\n      <th>146</th>\n      <td>2467.75</td>\n      <td>2479.00</td>\n      <td>2448.25</td>\n      <td>2453.95</td>\n      <td>2250437</td>\n    </tr>\n  </tbody>\n</table>\n<p>340 rows × 5 columns</p>\n</div>"
     },
     "execution_count": 41,
     "metadata": {},
     "output_type": "execute_result"
    }
   ],
   "source": [
    "df = df.drop([date_column], axis=1)\n",
    "n = len(df)\n",
    "train_df = df[0:int(n*0.7)]\n",
    "val_df = df[int(n*0.65):int(n*0.9)]\n",
    "test_df = df[int(n*0.85):]\n",
    "train_df"
   ],
   "metadata": {
    "collapsed": false,
    "pycharm": {
     "name": "#%%\n"
    }
   }
  },
  {
   "cell_type": "code",
   "execution_count": 42,
   "outputs": [
    {
     "data": {
      "text/plain": "array([[0.37384067, 0.34769193, 0.36286716, 0.3572542 , 0.12405331],\n       [0.3626635 , 0.3391138 , 0.3429832 , 0.3307554 , 0.12953814],\n       [0.35184304, 0.31196001, 0.31856642, 0.33291367, 0.20640306],\n       ...,\n       [0.99756243, 0.99395211, 0.97794029, 0.99556355, 0.11922343],\n       [1.        , 0.99487781, 1.        , 0.98776978, 0.09236008],\n       [0.97829964, 0.9742039 , 0.97153391, 0.95401679, 0.11759039]])"
     },
     "execution_count": 42,
     "metadata": {},
     "output_type": "execute_result"
    }
   ],
   "source": [
    "scaler = MinMaxScaler()\n",
    "scaled_train_df = scaler.fit_transform(train_df)\n",
    "scaled_train_df"
   ],
   "metadata": {
    "collapsed": false,
    "pycharm": {
     "name": "#%%\n"
    }
   }
  },
  {
   "cell_type": "code",
   "execution_count": 43,
   "outputs": [],
   "source": [
    "X_train = []\n",
    "Y_train = []\n",
    "window_size = 60\n",
    "for i in range(window_size, scaled_train_df.shape[0]):\n",
    "    X_train.append(scaled_train_df[i-window_size: i])\n",
    "    Y_train.append(scaled_train_df[i])"
   ],
   "metadata": {
    "collapsed": false,
    "pycharm": {
     "name": "#%%\n"
    }
   }
  },
  {
   "cell_type": "code",
   "execution_count": 49,
   "outputs": [
    {
     "data": {
      "text/plain": "((280, 60, 5), (280, 5))"
     },
     "execution_count": 49,
     "metadata": {},
     "output_type": "execute_result"
    }
   ],
   "source": [
    "x_train = np.array(X_train)\n",
    "y_train = np.array(Y_train)\n",
    "x_train.shape, y_train.shape"
   ],
   "metadata": {
    "collapsed": false,
    "pycharm": {
     "name": "#%%\n"
    }
   }
  },
  {
   "cell_type": "markdown",
   "source": [
    "## Building LSTM"
   ],
   "metadata": {
    "collapsed": false
   }
  },
  {
   "cell_type": "code",
   "execution_count": null,
   "outputs": [],
   "source": [
    "\n"
   ],
   "metadata": {
    "collapsed": false,
    "pycharm": {
     "name": "#%%\n"
    }
   }
  }
 ],
 "metadata": {
  "kernelspec": {
   "display_name": "Python 3",
   "language": "python",
   "name": "python3"
  },
  "language_info": {
   "codemirror_mode": {
    "name": "ipython",
    "version": 2
   },
   "file_extension": ".py",
   "mimetype": "text/x-python",
   "name": "python",
   "nbconvert_exporter": "python",
   "pygments_lexer": "ipython2",
   "version": "2.7.6"
  }
 },
 "nbformat": 4,
 "nbformat_minor": 0
}