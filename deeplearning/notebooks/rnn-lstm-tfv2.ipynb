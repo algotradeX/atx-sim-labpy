{
 "cells": [
  {
   "cell_type": "markdown",
   "metadata": {
    "collapsed": true,
    "pycharm": {
     "name": "#%% md\n"
    }
   },
   "source": [
    "# Price Prediction using RNN - LSTM"
   ]
  },
  {
   "cell_type": "code",
   "execution_count": 1,
   "outputs": [],
   "source": [
    "import matplotlib.pyplot as plt\n",
    "import numpy as np\n",
    "import pandas as pd\n",
    "import tensorflow as tf\n",
    "from sklearn.preprocessing import MinMaxScaler"
   ],
   "metadata": {
    "collapsed": false,
    "pycharm": {
     "name": "#%%\n"
    }
   }
  },
  {
   "cell_type": "code",
   "execution_count": 2,
   "outputs": [
    {
     "name": "stdout",
     "output_type": "stream",
     "text": [
      "csv_filepath ../../datasets/NSE/Quote-Equity-HDFC-EQ-29-08-2018-to-20-08-2020.csv\n"
     ]
    }
   ],
   "source": [
    "csv_filepath:str = \"../../datasets/NSE/Quote-Equity-HDFC-EQ-29-08-2018-to-20-08-2020.csv\"\n",
    "print(f\"csv_filepath {csv_filepath}\")\n",
    "date_column:str = \"Date \"\n",
    "open_column:str = \"OPEN \"\n",
    "high_column:str = \"HIGH \"\n",
    "low_column:str = \"LOW \"\n",
    "close_column:str = \"close \"\n",
    "volume_column:str = \"VOLUME \"\n",
    "close_column_index:int = 3\n",
    "np.set_printoptions(suppress=True)"
   ],
   "metadata": {
    "collapsed": false,
    "pycharm": {
     "name": "#%%\n"
    }
   }
  },
  {
   "cell_type": "code",
   "execution_count": 3,
   "outputs": [
    {
     "name": "stdout",
     "output_type": "stream",
     "text": [
      "df keys\n",
      "Index(['Date ', 'series ', 'OPEN ', 'HIGH ', 'LOW ', 'PREV. CLOSE ', 'ltp ',\n",
      "       'close ', 'vwap ', '52W H ', '52W L ', 'VOLUME ', 'VALUE ',\n",
      "       'No of trades '],\n",
      "      dtype='object')\n"
     ]
    },
    {
     "data": {
      "text/plain": "       Date  series      OPEN      HIGH       LOW  PREV. CLOSE       ltp   \\\n0 2020-08-19      EQ  1,835.00  1,835.90  1,818.05     1,820.70  1,827.55   \n1 2020-08-18      EQ  1,801.10  1,825.40  1,795.95     1,800.55  1,819.05   \n2 2020-08-17      EQ  1,805.00  1,807.85  1,783.85     1,791.70  1,801.95   \n3 2020-08-14      EQ  1,818.60  1,823.75  1,773.25     1,804.85  1,793.75   \n4 2020-08-13      EQ  1,818.50  1,823.65  1,799.55     1,814.20  1,810.00   \n\n     close      vwap     52W H     52W L   VOLUME              VALUE   \\\n0  1,827.95  1,828.01  2,499.90  1,473.45  2934730   5,364,712,976.60   \n1  1,820.70  1,813.53  2,499.90  1,473.45  3413536   6,190,549,505.40   \n2  1,800.55  1,795.17  2,499.90  1,473.45  4076960   7,318,829,944.15   \n3  1,791.70  1,796.65  2,499.90  1,473.45  6136766  11,025,637,096.85   \n4  1,804.85  1,807.52  2,499.90  1,473.45  3769538   6,813,503,042.60   \n\n   No of trades   \n0          85358  \n1         141811  \n2         148103  \n3         186319  \n4         129725  ",
      "text/html": "<div>\n<style scoped>\n    .dataframe tbody tr th:only-of-type {\n        vertical-align: middle;\n    }\n\n    .dataframe tbody tr th {\n        vertical-align: top;\n    }\n\n    .dataframe thead th {\n        text-align: right;\n    }\n</style>\n<table border=\"1\" class=\"dataframe\">\n  <thead>\n    <tr style=\"text-align: right;\">\n      <th></th>\n      <th>Date</th>\n      <th>series</th>\n      <th>OPEN</th>\n      <th>HIGH</th>\n      <th>LOW</th>\n      <th>PREV. CLOSE</th>\n      <th>ltp</th>\n      <th>close</th>\n      <th>vwap</th>\n      <th>52W H</th>\n      <th>52W L</th>\n      <th>VOLUME</th>\n      <th>VALUE</th>\n      <th>No of trades</th>\n    </tr>\n  </thead>\n  <tbody>\n    <tr>\n      <th>0</th>\n      <td>2020-08-19</td>\n      <td>EQ</td>\n      <td>1,835.00</td>\n      <td>1,835.90</td>\n      <td>1,818.05</td>\n      <td>1,820.70</td>\n      <td>1,827.55</td>\n      <td>1,827.95</td>\n      <td>1,828.01</td>\n      <td>2,499.90</td>\n      <td>1,473.45</td>\n      <td>2934730</td>\n      <td>5,364,712,976.60</td>\n      <td>85358</td>\n    </tr>\n    <tr>\n      <th>1</th>\n      <td>2020-08-18</td>\n      <td>EQ</td>\n      <td>1,801.10</td>\n      <td>1,825.40</td>\n      <td>1,795.95</td>\n      <td>1,800.55</td>\n      <td>1,819.05</td>\n      <td>1,820.70</td>\n      <td>1,813.53</td>\n      <td>2,499.90</td>\n      <td>1,473.45</td>\n      <td>3413536</td>\n      <td>6,190,549,505.40</td>\n      <td>141811</td>\n    </tr>\n    <tr>\n      <th>2</th>\n      <td>2020-08-17</td>\n      <td>EQ</td>\n      <td>1,805.00</td>\n      <td>1,807.85</td>\n      <td>1,783.85</td>\n      <td>1,791.70</td>\n      <td>1,801.95</td>\n      <td>1,800.55</td>\n      <td>1,795.17</td>\n      <td>2,499.90</td>\n      <td>1,473.45</td>\n      <td>4076960</td>\n      <td>7,318,829,944.15</td>\n      <td>148103</td>\n    </tr>\n    <tr>\n      <th>3</th>\n      <td>2020-08-14</td>\n      <td>EQ</td>\n      <td>1,818.60</td>\n      <td>1,823.75</td>\n      <td>1,773.25</td>\n      <td>1,804.85</td>\n      <td>1,793.75</td>\n      <td>1,791.70</td>\n      <td>1,796.65</td>\n      <td>2,499.90</td>\n      <td>1,473.45</td>\n      <td>6136766</td>\n      <td>11,025,637,096.85</td>\n      <td>186319</td>\n    </tr>\n    <tr>\n      <th>4</th>\n      <td>2020-08-13</td>\n      <td>EQ</td>\n      <td>1,818.50</td>\n      <td>1,823.65</td>\n      <td>1,799.55</td>\n      <td>1,814.20</td>\n      <td>1,810.00</td>\n      <td>1,804.85</td>\n      <td>1,807.52</td>\n      <td>2,499.90</td>\n      <td>1,473.45</td>\n      <td>3769538</td>\n      <td>6,813,503,042.60</td>\n      <td>129725</td>\n    </tr>\n  </tbody>\n</table>\n</div>"
     },
     "execution_count": 3,
     "metadata": {},
     "output_type": "execute_result"
    }
   ],
   "source": [
    "df = pd.read_csv(csv_filepath, date_parser=True, header=0)\n",
    "print(f\"df keys\")\n",
    "print(f\"{df.keys()}\")\n",
    "# Sort DataFrame by date\n",
    "df[date_column]=pd.to_datetime(df[date_column])\n",
    "df.head()"
   ],
   "metadata": {
    "collapsed": false,
    "pycharm": {
     "name": "#%%\n"
    }
   }
  },
  {
   "cell_type": "code",
   "execution_count": 4,
   "outputs": [
    {
     "data": {
      "text/plain": "         Date    OPEN     HIGH      LOW    close   VOLUME \n485 2018-08-29  1959.4  1971.40  1944.70  1956.25  2367281\n484 2018-08-30  1950.0  1964.45  1928.25  1934.15  2466442\n483 2018-08-31  1940.9  1942.45  1908.05  1935.95  3856093\n482 2018-09-03  1950.0  1950.00  1928.10  1944.80  2310201\n481 2018-09-04  1939.0  1959.65  1939.00  1954.80  2928533",
      "text/html": "<div>\n<style scoped>\n    .dataframe tbody tr th:only-of-type {\n        vertical-align: middle;\n    }\n\n    .dataframe tbody tr th {\n        vertical-align: top;\n    }\n\n    .dataframe thead th {\n        text-align: right;\n    }\n</style>\n<table border=\"1\" class=\"dataframe\">\n  <thead>\n    <tr style=\"text-align: right;\">\n      <th></th>\n      <th>Date</th>\n      <th>OPEN</th>\n      <th>HIGH</th>\n      <th>LOW</th>\n      <th>close</th>\n      <th>VOLUME</th>\n    </tr>\n  </thead>\n  <tbody>\n    <tr>\n      <th>485</th>\n      <td>2018-08-29</td>\n      <td>1959.4</td>\n      <td>1971.40</td>\n      <td>1944.70</td>\n      <td>1956.25</td>\n      <td>2367281</td>\n    </tr>\n    <tr>\n      <th>484</th>\n      <td>2018-08-30</td>\n      <td>1950.0</td>\n      <td>1964.45</td>\n      <td>1928.25</td>\n      <td>1934.15</td>\n      <td>2466442</td>\n    </tr>\n    <tr>\n      <th>483</th>\n      <td>2018-08-31</td>\n      <td>1940.9</td>\n      <td>1942.45</td>\n      <td>1908.05</td>\n      <td>1935.95</td>\n      <td>3856093</td>\n    </tr>\n    <tr>\n      <th>482</th>\n      <td>2018-09-03</td>\n      <td>1950.0</td>\n      <td>1950.00</td>\n      <td>1928.10</td>\n      <td>1944.80</td>\n      <td>2310201</td>\n    </tr>\n    <tr>\n      <th>481</th>\n      <td>2018-09-04</td>\n      <td>1939.0</td>\n      <td>1959.65</td>\n      <td>1939.00</td>\n      <td>1954.80</td>\n      <td>2928533</td>\n    </tr>\n  </tbody>\n</table>\n</div>"
     },
     "execution_count": 4,
     "metadata": {},
     "output_type": "execute_result"
    }
   ],
   "source": [
    "df[date_column] = pd.to_datetime(df[date_column]).astype('datetime64[ns]')\n",
    "df[open_column] = df[open_column].transform(func=lambda x: \"\".join(str(x).split(\",\"))).astype(float)\n",
    "df[high_column] = df[high_column].transform(func=lambda x: \"\".join(str(x).split(\",\"))).astype(float)\n",
    "df[low_column] = df[low_column].transform(func=lambda x: \"\".join(str(x).split(\",\"))).astype(float)\n",
    "df[close_column] = df[close_column].transform(func=lambda x: \"\".join(str(x).split(\",\"))).astype(float)\n",
    "df[volume_column] = df[volume_column].transform(func=lambda x: \"\".join(str(x).split(\",\"))).astype(int)\n",
    "df = df[[date_column, open_column, high_column, low_column, close_column, volume_column]]\n",
    "df = df.sort_values(by=[date_column], ascending=True)\n",
    "df.head()"
   ],
   "metadata": {
    "collapsed": false,
    "pycharm": {
     "name": "#%%\n"
    }
   }
  },
  {
   "cell_type": "code",
   "execution_count": 5,
   "outputs": [
    {
     "data": {
      "text/plain": "<Figure size 432x288 with 3 Axes>",
      "image/png": "[encoded data removed]"
     },
     "metadata": {
      "needs_background": "light"
     },
     "output_type": "display_data"
    }
   ],
   "source": [
    "date_time = pd.to_datetime(df[date_column], format='%Y-%m-%d')\n",
    "\n",
    "plot_cols = [close_column, high_column, volume_column]\n",
    "plot_features = df[plot_cols]\n",
    "plot_features.index = date_time\n",
    "_ = plot_features.plot(subplots=True)"
   ],
   "metadata": {
    "collapsed": false,
    "pycharm": {
     "name": "#%%\n"
    }
   }
  },
  {
   "cell_type": "markdown",
   "source": [
    "## Add Indicators"
   ],
   "metadata": {
    "collapsed": false,
    "pycharm": {
     "name": "#%% md\n"
    }
   }
  },
  {
   "cell_type": "code",
   "execution_count": 6,
   "outputs": [
    {
     "data": {
      "text/plain": "         Date     OPEN     HIGH      LOW    close   VOLUME         rsi  \\\n452 2018-10-19  1725.00  1760.95  1651.70  1660.25  5363667  36.105887   \n451 2018-10-22  1683.90  1689.70  1649.45  1658.30  4632839  35.940274   \n450 2018-10-23  1645.00  1710.00  1644.50  1686.75  3734275  40.246650   \n449 2018-10-24  1715.00  1748.50  1706.60  1741.45  3598576  47.547638   \n448 2018-10-25  1729.75  1740.00  1685.05  1694.45  4435395  42.717891   \n..         ...      ...      ...      ...      ...      ...        ...   \n4   2020-08-13  1818.50  1823.65  1799.55  1804.85  3769538  48.765474   \n3   2020-08-14  1818.60  1823.75  1773.25  1791.70  6136766  46.820777   \n2   2020-08-17  1805.00  1807.85  1783.85  1800.55  4076960  48.314635   \n1   2020-08-18  1801.10  1825.40  1795.95  1820.70  3413536  51.645237   \n0   2020-08-19  1835.00  1835.90  1818.05  1827.95  2934730  52.823200   \n\n        bb_bbm       bb_bbh       bb_bbl  bb_bbhi  bb_bbli     bb_bbw  \\\n452  1746.1750  1842.079856  1650.270144      0.0      0.0  10.984564   \n451  1737.5575  1832.520094  1642.594906      0.0      0.0  10.930584   \n450  1729.9250  1814.935443  1644.914557      0.0      0.0   9.828223   \n449  1731.0625  1816.050528  1646.074472      0.0      0.0   9.819175   \n448  1727.1175  1811.207697  1643.027303      0.0      0.0   9.737635   \n..         ...          ...          ...      ...      ...        ...   \n4    1820.7750  1906.973593  1734.576407      0.0      0.0   9.468341   \n3    1820.0675  1906.973859  1733.161141      0.0      0.0   9.549795   \n2    1819.7925  1906.909096  1732.675904      0.0      0.0   9.574344   \n1    1816.6450  1898.707677  1734.582323      0.0      0.0   9.034531   \n0    1813.9900  1890.814779  1737.165221      0.0      0.0   8.470254   \n\n       bb_bbp       macd  macd_diff            vpt  \n452  0.052030 -44.661667   3.385745 -277014.691897  \n451  0.082691 -47.095407   0.761604 -244797.094150  \n450  0.246061 -46.195969   1.328834   58624.313076  \n449  0.561112 -40.601298   5.538804  180764.724861  \n448  0.305759 -39.504603   5.308399   -3007.849932  \n..        ...        ...        ...            ...  \n4    0.407626  -5.921878  -1.860680  -44203.242074  \n3    0.336793  -6.689988  -2.103032  -64139.406075  \n2    0.389559  -6.509561  -1.538084  -24574.099434  \n1    0.524707  -4.686611   0.227893   58338.878074  \n0    0.590856  -2.626617   1.830309   49887.017288  \n\n[453 rows x 17 columns]",
      "text/html": "<div>\n<style scoped>\n    .dataframe tbody tr th:only-of-type {\n        vertical-align: middle;\n    }\n\n    .dataframe tbody tr th {\n        vertical-align: top;\n    }\n\n    .dataframe thead th {\n        text-align: right;\n    }\n</style>\n<table border=\"1\" class=\"dataframe\">\n  <thead>\n    <tr style=\"text-align: right;\">\n      <th></th>\n      <th>Date</th>\n      <th>OPEN</th>\n      <th>HIGH</th>\n      <th>LOW</th>\n      <th>close</th>\n      <th>VOLUME</th>\n      <th>rsi</th>\n      <th>bb_bbm</th>\n      <th>bb_bbh</th>\n      <th>bb_bbl</th>\n      <th>bb_bbhi</th>\n      <th>bb_bbli</th>\n      <th>bb_bbw</th>\n      <th>bb_bbp</th>\n      <th>macd</th>\n      <th>macd_diff</th>\n      <th>vpt</th>\n    </tr>\n  </thead>\n  <tbody>\n    <tr>\n      <th>452</th>\n      <td>2018-10-19</td>\n      <td>1725.00</td>\n      <td>1760.95</td>\n      <td>1651.70</td>\n      <td>1660.25</td>\n      <td>5363667</td>\n      <td>36.105887</td>\n      <td>1746.1750</td>\n      <td>1842.079856</td>\n      <td>1650.270144</td>\n      <td>0.0</td>\n      <td>0.0</td>\n      <td>10.984564</td>\n      <td>0.052030</td>\n      <td>-44.661667</td>\n      <td>3.385745</td>\n      <td>-277014.691897</td>\n    </tr>\n    <tr>\n      <th>451</th>\n      <td>2018-10-22</td>\n      <td>1683.90</td>\n      <td>1689.70</td>\n      <td>1649.45</td>\n      <td>1658.30</td>\n      <td>4632839</td>\n      <td>35.940274</td>\n      <td>1737.5575</td>\n      <td>1832.520094</td>\n      <td>1642.594906</td>\n      <td>0.0</td>\n      <td>0.0</td>\n      <td>10.930584</td>\n      <td>0.082691</td>\n      <td>-47.095407</td>\n      <td>0.761604</td>\n      <td>-244797.094150</td>\n    </tr>\n    <tr>\n      <th>450</th>\n      <td>2018-10-23</td>\n      <td>1645.00</td>\n      <td>1710.00</td>\n      <td>1644.50</td>\n      <td>1686.75</td>\n      <td>3734275</td>\n      <td>40.246650</td>\n      <td>1729.9250</td>\n      <td>1814.935443</td>\n      <td>1644.914557</td>\n      <td>0.0</td>\n      <td>0.0</td>\n      <td>9.828223</td>\n      <td>0.246061</td>\n      <td>-46.195969</td>\n      <td>1.328834</td>\n      <td>58624.313076</td>\n    </tr>\n    <tr>\n      <th>449</th>\n      <td>2018-10-24</td>\n      <td>1715.00</td>\n      <td>1748.50</td>\n      <td>1706.60</td>\n      <td>1741.45</td>\n      <td>3598576</td>\n      <td>47.547638</td>\n      <td>1731.0625</td>\n      <td>1816.050528</td>\n      <td>1646.074472</td>\n      <td>0.0</td>\n      <td>0.0</td>\n      <td>9.819175</td>\n      <td>0.561112</td>\n      <td>-40.601298</td>\n      <td>5.538804</td>\n      <td>180764.724861</td>\n    </tr>\n    <tr>\n      <th>448</th>\n      <td>2018-10-25</td>\n      <td>1729.75</td>\n      <td>1740.00</td>\n      <td>1685.05</td>\n      <td>1694.45</td>\n      <td>4435395</td>\n      <td>42.717891</td>\n      <td>1727.1175</td>\n      <td>1811.207697</td>\n      <td>1643.027303</td>\n      <td>0.0</td>\n      <td>0.0</td>\n      <td>9.737635</td>\n      <td>0.305759</td>\n      <td>-39.504603</td>\n      <td>5.308399</td>\n      <td>-3007.849932</td>\n    </tr>\n    <tr>\n      <th>...</th>\n      <td>...</td>\n      <td>...</td>\n      <td>...</td>\n      <td>...</td>\n      <td>...</td>\n      <td>...</td>\n      <td>...</td>\n      <td>...</td>\n      <td>...</td>\n      <td>...</td>\n      <td>...</td>\n      <td>...</td>\n      <td>...</td>\n      <td>...</td>\n      <td>...</td>\n      <td>...</td>\n      <td>...</td>\n    </tr>\n    <tr>\n      <th>4</th>\n      <td>2020-08-13</td>\n      <td>1818.50</td>\n      <td>1823.65</td>\n      <td>1799.55</td>\n      <td>1804.85</td>\n      <td>3769538</td>\n      <td>48.765474</td>\n      <td>1820.7750</td>\n      <td>1906.973593</td>\n      <td>1734.576407</td>\n      <td>0.0</td>\n      <td>0.0</td>\n      <td>9.468341</td>\n      <td>0.407626</td>\n      <td>-5.921878</td>\n      <td>-1.860680</td>\n      <td>-44203.242074</td>\n    </tr>\n    <tr>\n      <th>3</th>\n      <td>2020-08-14</td>\n      <td>1818.60</td>\n      <td>1823.75</td>\n      <td>1773.25</td>\n      <td>1791.70</td>\n      <td>6136766</td>\n      <td>46.820777</td>\n      <td>1820.0675</td>\n      <td>1906.973859</td>\n      <td>1733.161141</td>\n      <td>0.0</td>\n      <td>0.0</td>\n      <td>9.549795</td>\n      <td>0.336793</td>\n      <td>-6.689988</td>\n      <td>-2.103032</td>\n      <td>-64139.406075</td>\n    </tr>\n    <tr>\n      <th>2</th>\n      <td>2020-08-17</td>\n      <td>1805.00</td>\n      <td>1807.85</td>\n      <td>1783.85</td>\n      <td>1800.55</td>\n      <td>4076960</td>\n      <td>48.314635</td>\n      <td>1819.7925</td>\n      <td>1906.909096</td>\n      <td>1732.675904</td>\n      <td>0.0</td>\n      <td>0.0</td>\n      <td>9.574344</td>\n      <td>0.389559</td>\n      <td>-6.509561</td>\n      <td>-1.538084</td>\n      <td>-24574.099434</td>\n    </tr>\n    <tr>\n      <th>1</th>\n      <td>2020-08-18</td>\n      <td>1801.10</td>\n      <td>1825.40</td>\n      <td>1795.95</td>\n      <td>1820.70</td>\n      <td>3413536</td>\n      <td>51.645237</td>\n      <td>1816.6450</td>\n      <td>1898.707677</td>\n      <td>1734.582323</td>\n      <td>0.0</td>\n      <td>0.0</td>\n      <td>9.034531</td>\n      <td>0.524707</td>\n      <td>-4.686611</td>\n      <td>0.227893</td>\n      <td>58338.878074</td>\n    </tr>\n    <tr>\n      <th>0</th>\n      <td>2020-08-19</td>\n      <td>1835.00</td>\n      <td>1835.90</td>\n      <td>1818.05</td>\n      <td>1827.95</td>\n      <td>2934730</td>\n      <td>52.823200</td>\n      <td>1813.9900</td>\n      <td>1890.814779</td>\n      <td>1737.165221</td>\n      <td>0.0</td>\n      <td>0.0</td>\n      <td>8.470254</td>\n      <td>0.590856</td>\n      <td>-2.626617</td>\n      <td>1.830309</td>\n      <td>49887.017288</td>\n    </tr>\n  </tbody>\n</table>\n<p>453 rows × 17 columns</p>\n</div>"
     },
     "execution_count": 6,
     "metadata": {},
     "output_type": "execute_result"
    }
   ],
   "source": [
    "from ta.momentum import rsi\n",
    "from ta.trend import MACD\n",
    "from ta.volatility import BollingerBands\n",
    "from ta.volume import VolumePriceTrendIndicator\n",
    "\n",
    "# Add RSI Indicator\n",
    "df[\"rsi\"] = rsi(df[close_column], n=14)\n",
    "\n",
    "# Initialize Bollinger Bands Indicator\n",
    "indicator_bb = BollingerBands(close=df[close_column], n=20, ndev=2)\n",
    "\n",
    "# Add Bollinger Bands features\n",
    "df['bb_bbm'] = indicator_bb.bollinger_mavg()\n",
    "df['bb_bbh'] = indicator_bb.bollinger_hband()\n",
    "df['bb_bbl'] = indicator_bb.bollinger_lband()\n",
    "\n",
    "# Add Bollinger Band high indicator\n",
    "df['bb_bbhi'] = indicator_bb.bollinger_hband_indicator()\n",
    "\n",
    "# Add Bollinger Band low indicator\n",
    "df['bb_bbli'] = indicator_bb.bollinger_lband_indicator()\n",
    "\n",
    "# Add Width Size Bollinger Bands\n",
    "df['bb_bbw'] = indicator_bb.bollinger_wband()\n",
    "\n",
    "# Add Percentage Bollinger Bands\n",
    "df['bb_bbp'] = indicator_bb.bollinger_pband()\n",
    "\n",
    "# Initialize MACD Indicator\n",
    "macd = MACD(df[close_column], n_slow=26, n_fast=12, n_sign=9)\n",
    "\n",
    "# Add macd_diff features\n",
    "df[\"macd\"] = macd.macd()\n",
    "df[\"macd_diff\"] = macd.macd_diff()\n",
    "\n",
    "# Initialize VPT Indicator\n",
    "vpt = VolumePriceTrendIndicator(df[close_column], df[volume_column])\n",
    "df[\"vpt\"] = vpt.volume_price_trend()\n",
    "\n",
    "# Drop rows with na values\n",
    "df_with_ta = df.dropna(axis=0)\n",
    "\n",
    "df_with_ta"
   ],
   "metadata": {
    "collapsed": false,
    "pycharm": {
     "name": "#%%\n"
    }
   }
  },
  {
   "cell_type": "code",
   "execution_count": 7,
   "outputs": [
    {
     "data": {
      "text/plain": "       OPEN     HIGH      LOW    close   VOLUME         rsi     bb_bbm  \\\n452  1725.00  1760.95  1651.70  1660.25  5363667  36.105887  1746.1750   \n451  1683.90  1689.70  1649.45  1658.30  4632839  35.940274  1737.5575   \n450  1645.00  1710.00  1644.50  1686.75  3734275  40.246650  1729.9250   \n449  1715.00  1748.50  1706.60  1741.45  3598576  47.547638  1731.0625   \n448  1729.75  1740.00  1685.05  1694.45  4435395  42.717891  1727.1175   \n..       ...      ...      ...      ...      ...        ...        ...   \n140  2433.00  2445.00  2388.50  2395.80  2543177  45.600813  2443.9225   \n139  2413.00  2471.70  2410.00  2431.60  6698252  51.406738  2444.8750   \n138  2446.00  2447.50  2400.00  2404.25  2692713  47.257145  2443.3900   \n137  2413.00  2428.70  2386.90  2415.00  2807667  48.999729  2440.8200   \n136  2417.00  2434.75  2404.50  2414.00  2828509  48.838083  2438.7975   \n\n          bb_bbh       bb_bbl  bb_bbhi  bb_bbli     bb_bbw    bb_bbp  \\\n452  1842.079856  1650.270144      0.0      0.0  10.984564  0.052030   \n451  1832.520094  1642.594906      0.0      0.0  10.930584  0.082691   \n450  1814.935443  1644.914557      0.0      0.0   9.828223  0.246061   \n449  1816.050528  1646.074472      0.0      0.0   9.819175  0.561112   \n448  1811.207697  1643.027303      0.0      0.0   9.737635  0.305759   \n..           ...          ...      ...      ...        ...       ...   \n140  2504.038650  2383.806350      0.0      0.0   4.919645  0.099754   \n139  2503.559278  2386.190722      0.0      0.0   4.800595  0.386895   \n138  2504.555600  2382.224400      0.0      0.0   5.006618  0.180049   \n137  2502.221282  2379.418718      0.0      0.0   5.031201  0.289744   \n136  2500.930120  2376.664880      0.0      0.0   5.095349  0.300447   \n\n          macd  macd_diff            vpt  \n452 -44.661667   3.385745 -277014.691897  \n451 -47.095407   0.761604 -244797.094150  \n450 -46.195969   1.328834   58624.313076  \n449 -40.601298   5.538804  180764.724861  \n448 -39.504603   5.308399   -3007.849932  \n..         ...        ...            ...  \n140  15.222750 -11.292881  -36973.158439  \n139  13.483042 -10.426071   43068.379976  \n138   9.784604 -11.299607   69803.820505  \n137   7.633012 -10.760959  -17733.152853  \n136   5.780534 -10.090750   11382.552531  \n\n[317 rows x 16 columns]",
      "text/html": "<div>\n<style scoped>\n    .dataframe tbody tr th:only-of-type {\n        vertical-align: middle;\n    }\n\n    .dataframe tbody tr th {\n        vertical-align: top;\n    }\n\n    .dataframe thead th {\n        text-align: right;\n    }\n</style>\n<table border=\"1\" class=\"dataframe\">\n  <thead>\n    <tr style=\"text-align: right;\">\n      <th></th>\n      <th>OPEN</th>\n      <th>HIGH</th>\n      <th>LOW</th>\n      <th>close</th>\n      <th>VOLUME</th>\n      <th>rsi</th>\n      <th>bb_bbm</th>\n      <th>bb_bbh</th>\n      <th>bb_bbl</th>\n      <th>bb_bbhi</th>\n      <th>bb_bbli</th>\n      <th>bb_bbw</th>\n      <th>bb_bbp</th>\n      <th>macd</th>\n      <th>macd_diff</th>\n      <th>vpt</th>\n    </tr>\n  </thead>\n  <tbody>\n    <tr>\n      <th>452</th>\n      <td>1725.00</td>\n      <td>1760.95</td>\n      <td>1651.70</td>\n      <td>1660.25</td>\n      <td>5363667</td>\n      <td>36.105887</td>\n      <td>1746.1750</td>\n      <td>1842.079856</td>\n      <td>1650.270144</td>\n      <td>0.0</td>\n      <td>0.0</td>\n      <td>10.984564</td>\n      <td>0.052030</td>\n      <td>-44.661667</td>\n      <td>3.385745</td>\n      <td>-277014.691897</td>\n    </tr>\n    <tr>\n      <th>451</th>\n      <td>1683.90</td>\n      <td>1689.70</td>\n      <td>1649.45</td>\n      <td>1658.30</td>\n      <td>4632839</td>\n      <td>35.940274</td>\n      <td>1737.5575</td>\n      <td>1832.520094</td>\n      <td>1642.594906</td>\n      <td>0.0</td>\n      <td>0.0</td>\n      <td>10.930584</td>\n      <td>0.082691</td>\n      <td>-47.095407</td>\n      <td>0.761604</td>\n      <td>-244797.094150</td>\n    </tr>\n    <tr>\n      <th>450</th>\n      <td>1645.00</td>\n      <td>1710.00</td>\n      <td>1644.50</td>\n      <td>1686.75</td>\n      <td>3734275</td>\n      <td>40.246650</td>\n      <td>1729.9250</td>\n      <td>1814.935443</td>\n      <td>1644.914557</td>\n      <td>0.0</td>\n      <td>0.0</td>\n      <td>9.828223</td>\n      <td>0.246061</td>\n      <td>-46.195969</td>\n      <td>1.328834</td>\n      <td>58624.313076</td>\n    </tr>\n    <tr>\n      <th>449</th>\n      <td>1715.00</td>\n      <td>1748.50</td>\n      <td>1706.60</td>\n      <td>1741.45</td>\n      <td>3598576</td>\n      <td>47.547638</td>\n      <td>1731.0625</td>\n      <td>1816.050528</td>\n      <td>1646.074472</td>\n      <td>0.0</td>\n      <td>0.0</td>\n      <td>9.819175</td>\n      <td>0.561112</td>\n      <td>-40.601298</td>\n      <td>5.538804</td>\n      <td>180764.724861</td>\n    </tr>\n    <tr>\n      <th>448</th>\n      <td>1729.75</td>\n      <td>1740.00</td>\n      <td>1685.05</td>\n      <td>1694.45</td>\n      <td>4435395</td>\n      <td>42.717891</td>\n      <td>1727.1175</td>\n      <td>1811.207697</td>\n      <td>1643.027303</td>\n      <td>0.0</td>\n      <td>0.0</td>\n      <td>9.737635</td>\n      <td>0.305759</td>\n      <td>-39.504603</td>\n      <td>5.308399</td>\n      <td>-3007.849932</td>\n    </tr>\n    <tr>\n      <th>...</th>\n      <td>...</td>\n      <td>...</td>\n      <td>...</td>\n      <td>...</td>\n      <td>...</td>\n      <td>...</td>\n      <td>...</td>\n      <td>...</td>\n      <td>...</td>\n      <td>...</td>\n      <td>...</td>\n      <td>...</td>\n      <td>...</td>\n      <td>...</td>\n      <td>...</td>\n      <td>...</td>\n    </tr>\n    <tr>\n      <th>140</th>\n      <td>2433.00</td>\n      <td>2445.00</td>\n      <td>2388.50</td>\n      <td>2395.80</td>\n      <td>2543177</td>\n      <td>45.600813</td>\n      <td>2443.9225</td>\n      <td>2504.038650</td>\n      <td>2383.806350</td>\n      <td>0.0</td>\n      <td>0.0</td>\n      <td>4.919645</td>\n      <td>0.099754</td>\n      <td>15.222750</td>\n      <td>-11.292881</td>\n      <td>-36973.158439</td>\n    </tr>\n    <tr>\n      <th>139</th>\n      <td>2413.00</td>\n      <td>2471.70</td>\n      <td>2410.00</td>\n      <td>2431.60</td>\n      <td>6698252</td>\n      <td>51.406738</td>\n      <td>2444.8750</td>\n      <td>2503.559278</td>\n      <td>2386.190722</td>\n      <td>0.0</td>\n      <td>0.0</td>\n      <td>4.800595</td>\n      <td>0.386895</td>\n      <td>13.483042</td>\n      <td>-10.426071</td>\n      <td>43068.379976</td>\n    </tr>\n    <tr>\n      <th>138</th>\n      <td>2446.00</td>\n      <td>2447.50</td>\n      <td>2400.00</td>\n      <td>2404.25</td>\n      <td>2692713</td>\n      <td>47.257145</td>\n      <td>2443.3900</td>\n      <td>2504.555600</td>\n      <td>2382.224400</td>\n      <td>0.0</td>\n      <td>0.0</td>\n      <td>5.006618</td>\n      <td>0.180049</td>\n      <td>9.784604</td>\n      <td>-11.299607</td>\n      <td>69803.820505</td>\n    </tr>\n    <tr>\n      <th>137</th>\n      <td>2413.00</td>\n      <td>2428.70</td>\n      <td>2386.90</td>\n      <td>2415.00</td>\n      <td>2807667</td>\n      <td>48.999729</td>\n      <td>2440.8200</td>\n      <td>2502.221282</td>\n      <td>2379.418718</td>\n      <td>0.0</td>\n      <td>0.0</td>\n      <td>5.031201</td>\n      <td>0.289744</td>\n      <td>7.633012</td>\n      <td>-10.760959</td>\n      <td>-17733.152853</td>\n    </tr>\n    <tr>\n      <th>136</th>\n      <td>2417.00</td>\n      <td>2434.75</td>\n      <td>2404.50</td>\n      <td>2414.00</td>\n      <td>2828509</td>\n      <td>48.838083</td>\n      <td>2438.7975</td>\n      <td>2500.930120</td>\n      <td>2376.664880</td>\n      <td>0.0</td>\n      <td>0.0</td>\n      <td>5.095349</td>\n      <td>0.300447</td>\n      <td>5.780534</td>\n      <td>-10.090750</td>\n      <td>11382.552531</td>\n    </tr>\n  </tbody>\n</table>\n<p>317 rows × 16 columns</p>\n</div>"
     },
     "execution_count": 7,
     "metadata": {},
     "output_type": "execute_result"
    }
   ],
   "source": [
    "final_df = df_with_ta.drop([date_column], axis=1)\n",
    "n = len(final_df)\n",
    "train_df = final_df[0:int(n*0.7)]\n",
    "val_df = final_df[int(n*0.65):int(n*0.99)]\n",
    "test_df = final_df[int(n*0.85):]\n",
    "train_df"
   ],
   "metadata": {
    "collapsed": false,
    "pycharm": {
     "name": "#%%\n"
    }
   }
  },
  {
   "cell_type": "code",
   "execution_count": 8,
   "outputs": [
    {
     "data": {
      "text/plain": "array([[0.09512485, 0.08794125, 0.00870301, ..., 0.02257399, 0.58083218,\n        0.        ],\n       [0.04625446, 0.        , 0.00598332, ..., 0.        , 0.51739794,\n        0.02152792],\n       [0.        , 0.02505554, 0.        , ..., 0.00834268, 0.53110978,\n        0.22427522],\n       ...,\n       [0.95243757, 0.93532461, 0.91321165, ..., 0.52758669, 0.22583829,\n        0.23174541],\n       [0.91319857, 0.91212046, 0.89737701, ..., 0.50762975, 0.2388592 ,\n        0.17325288],\n       [0.91795482, 0.91958776, 0.91865103, ..., 0.49044721, 0.25506039,\n        0.1927081 ]])"
     },
     "execution_count": 8,
     "metadata": {},
     "output_type": "execute_result"
    }
   ],
   "source": [
    "scaler = MinMaxScaler()\n",
    "scaled_train_df = scaler.fit_transform(train_df)\n",
    "scaled_train_df"
   ],
   "metadata": {
    "collapsed": false,
    "pycharm": {
     "name": "#%%\n"
    }
   }
  },
  {
   "cell_type": "code",
   "execution_count": 9,
   "outputs": [],
   "source": [
    "X_train = []\n",
    "Y_train = []\n",
    "window_size = 30\n",
    "for i in range(window_size, scaled_train_df.shape[0]):\n",
    "    X_train.append(scaled_train_df[i-window_size: i])\n",
    "    Y_train.append(scaled_train_df[i][close_column_index])"
   ],
   "metadata": {
    "collapsed": false,
    "pycharm": {
     "name": "#%%\n"
    }
   }
  },
  {
   "cell_type": "code",
   "execution_count": 10,
   "outputs": [
    {
     "data": {
      "text/plain": "((287, 30, 16), (287,))"
     },
     "execution_count": 10,
     "metadata": {},
     "output_type": "execute_result"
    }
   ],
   "source": [
    "x_train = np.array(X_train)\n",
    "y_train = np.array(Y_train)\n",
    "x_train.shape, y_train.shape"
   ],
   "metadata": {
    "collapsed": false,
    "pycharm": {
     "name": "#%%\n"
    }
   }
  },
  {
   "cell_type": "markdown",
   "source": [
    "## Building LSTM"
   ],
   "metadata": {
    "collapsed": false
   }
  },
  {
   "cell_type": "code",
   "execution_count": 11,
   "outputs": [],
   "source": [
    "from tensorflow.keras import Sequential\n",
    "from tensorflow.keras.layers import Dense, LSTM, Dropout, GRU"
   ],
   "metadata": {
    "collapsed": false,
    "pycharm": {
     "name": "#%%\n"
    }
   }
  },
  {
   "cell_type": "code",
   "execution_count": 12,
   "outputs": [
    {
     "name": "stdout",
     "output_type": "stream",
     "text": [
      "Model: \"sequential\"\n",
      "_________________________________________________________________\n",
      "Layer (type)                 Output Shape              Param #   \n",
      "=================================================================\n",
      "lstm (LSTM)                  (None, 30, 480)           954240    \n",
      "_________________________________________________________________\n",
      "dropout (Dropout)            (None, 30, 480)           0         \n",
      "_________________________________________________________________\n",
      "gru (GRU)                    (None, 30, 240)           519840    \n",
      "_________________________________________________________________\n",
      "dropout_1 (Dropout)          (None, 30, 240)           0         \n",
      "_________________________________________________________________\n",
      "lstm_1 (LSTM)                (None, 30, 120)           173280    \n",
      "_________________________________________________________________\n",
      "dropout_2 (Dropout)          (None, 30, 120)           0         \n",
      "_________________________________________________________________\n",
      "gru_1 (GRU)                  (None, 30, 60)            32760     \n",
      "_________________________________________________________________\n",
      "dropout_3 (Dropout)          (None, 30, 60)            0         \n",
      "_________________________________________________________________\n",
      "lstm_2 (LSTM)                (None, 30)                10920     \n",
      "_________________________________________________________________\n",
      "dropout_4 (Dropout)          (None, 30)                0         \n",
      "_________________________________________________________________\n",
      "dense (Dense)                (None, 1)                 31        \n",
      "=================================================================\n",
      "Total params: 1,691,071\n",
      "Trainable params: 1,691,071\n",
      "Non-trainable params: 0\n",
      "_________________________________________________________________\n"
     ]
    }
   ],
   "source": [
    "model = Sequential()\n",
    "model.add(LSTM(units=480, activation=\"tanh\", return_sequences=True, input_shape=(x_train.shape[1], x_train.shape[2])))\n",
    "model.add(Dropout(0.01))\n",
    "\n",
    "model.add(GRU(units=240, activation=\"tanh\", return_sequences=True))\n",
    "model.add(Dropout(0.1))\n",
    "\n",
    "model.add(LSTM(units=120, activation=\"tanh\", return_sequences=True))\n",
    "model.add(Dropout(0.2))\n",
    "\n",
    "model.add(GRU(units=60, activation=\"tanh\", return_sequences=True))\n",
    "model.add(Dropout(0.01))\n",
    "\n",
    "model.add(LSTM(units=30, activation=\"tanh\"))\n",
    "model.add(Dropout(0.1))\n",
    "\n",
    "model.add(Dense(units=1))\n",
    "model.summary()"
   ],
   "metadata": {
    "collapsed": false,
    "pycharm": {
     "name": "#%%\n"
    }
   }
  },
  {
   "cell_type": "code",
   "execution_count": 13,
   "outputs": [],
   "source": [
    "model.compile(optimizer=tf.optimizers.Adam(), loss=tf.losses.MeanSquaredError())"
   ],
   "metadata": {
    "collapsed": false,
    "pycharm": {
     "name": "#%%\n"
    }
   }
  },
  {
   "cell_type": "code",
   "execution_count": 14,
   "outputs": [
    {
     "name": "stdout",
     "output_type": "stream",
     "text": [
      "Epoch 1/20\n",
      "9/9 [==============================] - 6s 677ms/step - loss: 0.0666\b\b\b\b\b\b\b\b\b\b\b\b\b\b\b\b\b\b\b\b\b\b\b\b\b\b\b\b\b\b\b\b\b\b\b\b\b\b\b\b\b\b\b\b\b\b\b\b\b\b\b\b\b\b\b\b\b\b\b\b\b\b\b\b\b\b\b\b\b\b\b\b\b\b\b\b\b\b\b\b\b\b\b\b\b\b\b\b\b\b\b\b\b\b\b\b\b\b\b\b\b\b\b\b\b\b\b\b\b\b\b\b\b\b\b\b\b\b\b\b\b\b\b\b\b\b\b\b\b\b\b\b\b\b\b\b\b\b\b\b\b\b\b\b\b\b\b\b\b\b\b\b\b\b\b\b\b\b\b\b\b\b\b\b\b\b\b\b\b\b\b\b\b\b\b\b\b\b\b\b\b\b\b\b\b\b\b\b\b\b\b\b\b\b\b\b\b\b\b\b\b\b\b\b\b\b\b\b\b\b\b\b\b\b\b\b\b\b\b\b\b\b\b\b\b\b\b\b\b\b\b\b\b\b\b\b\b\b\b\b\b\b\b\b\b\b\b\b\b\b\b\b\b\b\b\b\b\b\b\b\b\b\b\b\b\b\b\b\b\b\b\b\b\b\b\b\b\b\b\b\b\b\b\b\b\b\b\b\b\b\b\b\b\b\b\b\b\b\b\b\b\b\b\b\b\b\b\b\b\b\b\b\b\b\b\b\b\b\b\b\b\b\b\b\b\b\b\b\b\b\b\b\b\b\b\b\b\b\b\b\b\b\b\b\b\b\b\b\b\b\b\b\b\b\b\b\b\b\b\b\b\b\b\b\b\b\b\b\b\b\b\b\b\b\b\b\b\b\b\b\b\b\b\b\b\b\b\b\b\b\b\b\b\b\b\b\b\b\b\b\b\b\b\b\b\b\b\b\b\b\b\b\b\b\b\b\b\b\b\b\b\b\b\b\b\b\b\b\b\b\b\b\b\b\b\b\b\b\b\b\b\b\b\b\b\b\b\b\b\b\b\b\b\b\b\b\b\b\b\b\b\b\b\b\b\b\b\b\b\b\b\b\b\b\b\b\b\b\b\b\b\b\b\b\b\b\b\b\b\b\b\b\b\b\b\b\b\b\b\b\b\b\b\b\b\b\b\b\b\b\b\b\b\b\b\b\b\b\b\b\b\b\b\b\b\b\b\b\b\b\b\b\b\b\b\b\b\b\b\b\b\b\b\n",
      "Epoch 2/20\n",
      "9/9 [==============================] - 5s 595ms/step - loss: 0.0148\b\b\b\b\b\b\b\b\b\b\b\b\b\b\b\b\b\b\b\b\b\b\b\b\b\b\b\b\b\b\b\b\b\b\b\b\b\b\b\b\b\b\b\b\b\b\b\b\b\b\b\b\b\b\b\b\b\b\b\b\b\b\b\b\b\b\b\b\b\b\b\b\b\b\b\b\b\b\b\b\b\b\b\b\b\b\b\b\b\b\b\b\b\b\b\b\b\b\b\b\b\b\b\b\b\b\b\b\b\b\b\b\b\b\b\b\b\b\b\b\b\b\b\b\b\b\b\b\b\b\b\b\b\b\b\b\b\b\b\b\b\b\b\b\b\b\b\b\b\b\b\b\b\b\b\b\b\b\b\b\b\b\b\b\b\b\b\b\b\b\b\b\b\b\b\b\b\b\b\b\b\b\b\b\b\b\b\b\b\b\b\b\b\b\b\b\b\b\b\b\b\b\b\b\b\b\b\b\b\b\b\b\b\b\b\b\b\b\b\b\b\b\b\b\b\b\b\b\b\b\b\b\b\b\b\b\b\b\b\b\b\b\b\b\b\b\b\b\b\b\b\b\b\b\b\b\b\b\b\b\b\b\b\b\b\b\b\b\b\b\b\b\b\b\b\b\b\b\b\b\b\b\b\b\b\b\b\b\b\b\b\b\b\b\b\b\b\b\b\b\b\b\b\b\b\b\b\b\b\b\b\b\b\b\b\b\b\b\b\b\b\b\b\b\b\b\b\b\b\b\b\b\b\b\b\b\b\b\b\b\b\b\b\b\b\b\b\b\b\b\b\b\b\b\b\b\b\b\b\b\b\b\b\b\b\b\b\b\b\b\b\b\b\b\b\b\b\b\b\b\b\b\b\b\b\b\b\b\b\b\b\b\b\b\b\b\b\b\b\b\b\b\b\b\b\b\b\b\b\b\b\b\b\b\b\b\b\b\b\b\b\b\b\b\b\b\b\b\b\b\b\b\b\b\b\b\b\b\b\b\b\b\b\b\b\b\b\b\b\b\b\b\b\b\b\b\b\b\b\b\b\b\b\b\b\b\b\b\b\b\b\b\b\b\b\b\b\b\b\b\b\b\b\b\b\b\b\b\b\b\b\b\b\b\b\b\b\b\b\b\b\b\b\b\b\b\b\b\b\b\b\b\b\b\b\b\b\b\b\b\b\b\b\b\b\b\b\b\b\b\b\b\b\b\b\b\b\b\b\b\b\b\b\n",
      "Epoch 3/20\n",
      "9/9 [==============================] - 5s 563ms/step - loss: 0.0091\b\b\b\b\b\b\b\b\b\b\b\b\b\b\b\b\b\b\b\b\b\b\b\b\b\b\b\b\b\b\b\b\b\b\b\b\b\b\b\b\b\b\b\b\b\b\b\b\b\b\b\b\b\b\b\b\b\b\b\b\b\b\b\b\b\b\b\b\b\b\b\b\b\b\b\b\b\b\b\b\b\b\b\b\b\b\b\b\b\b\b\b\b\b\b\b\b\b\b\b\b\b\b\b\b\b\b\b\b\b\b\b\b\b\b\b\b\b\b\b\b\b\b\b\b\b\b\b\b\b\b\b\b\b\b\b\b\b\b\b\b\b\b\b\b\b\b\b\b\b\b\b\b\b\b\b\b\b\b\b\b\b\b\b\b\b\b\b\b\b\b\b\b\b\b\b\b\b\b\b\b\b\b\b\b\b\b\b\b\b\b\b\b\b\b\b\b\b\b\b\b\b\b\b\b\b\b\b\b\b\b\b\b\b\b\b\b\b\b\b\b\b\b\b\b\b\b\b\b\b\b\b\b\b\b\b\b\b\b\b\b\b\b\b\b\b\b\b\b\b\b\b\b\b\b\b\b\b\b\b\b\b\b\b\b\b\b\b\b\b\b\b\b\b\b\b\b\b\b\b\b\b\b\b\b\b\b\b\b\b\b\b\b\b\b\b\b\b\b\b\b\b\b\b\b\b\b\b\b\b\b\b\b\b\b\b\b\b\b\b\b\b\b\b\b\b\b\b\b\b\b\b\b\b\b\b\b\b\b\b\b\b\b\b\b\b\b\b\b\b\b\b\b\b\b\b\b\b\b\b\b\b\b\b\b\b\b\b\b\b\b\b\b\b\b\b\b\b\b\b\b\b\b\b\b\b\b\b\b\b\b\b\b\b\b\b\b\b\b\b\b\b\b\b\b\b\b\b\b\b\b\b\b\b\b\b\b\b\b\b\b\b\b\b\b\b\b\b\b\b\b\b\b\b\b\b\b\b\b\b\b\b\b\b\b\b\b\b\b\b\b\b\b\b\b\b\b\b\b\b\b\b\b\b\b\b\b\b\b\b\b\b\b\b\b\b\b\b\b\b\b\b\b\b\b\b\b\b\b\b\b\b\b\b\b\b\b\b\b\b\b\b\b\b\b\b\b\b\b\b\b\b\b\b\b\b\b\b\b\b\b\b\b\b\b\b\b\b\b\b\b\b\b\b\b\b\b\b\b\b\b\b\b\n",
      "Epoch 4/20\n",
      "9/9 [==============================] - 5s 600ms/step - loss: 0.0082\b\b\b\b\b\b\b\b\b\b\b\b\b\b\b\b\b\b\b\b\b\b\b\b\b\b\b\b\b\b\b\b\b\b\b\b\b\b\b\b\b\b\b\b\b\b\b\b\b\b\b\b\b\b\b\b\b\b\b\b\b\b\b\b\b\b\b\b\b\b\b\b\b\b\b\b\b\b\b\b\b\b\b\b\b\b\b\b\b\b\b\b\b\b\b\b\b\b\b\b\b\b\b\b\b\b\b\b\b\b\b\b\b\b\b\b\b\b\b\b\b\b\b\b\b\b\b\b\b\b\b\b\b\b\b\b\b\b\b\b\b\b\b\b\b\b\b\b\b\b\b\b\b\b\b\b\b\b\b\b\b\b\b\b\b\b\b\b\b\b\b\b\b\b\b\b\b\b\b\b\b\b\b\b\b\b\b\b\b\b\b\b\b\b\b\b\b\b\b\b\b\b\b\b\b\b\b\b\b\b\b\b\b\b\b\b\b\b\b\b\b\b\b\b\b\b\b\b\b\b\b\b\b\b\b\b\b\b\b\b\b\b\b\b\b\b\b\b\b\b\b\b\b\b\b\b\b\b\b\b\b\b\b\b\b\b\b\b\b\b\b\b\b\b\b\b\b\b\b\b\b\b\b\b\b\b\b\b\b\b\b\b\b\b\b\b\b\b\b\b\b\b\b\b\b\b\b\b\b\b\b\b\b\b\b\b\b\b\b\b\b\b\b\b\b\b\b\b\b\b\b\b\b\b\b\b\b\b\b\b\b\b\b\b\b\b\b\b\b\b\b\b\b\b\b\b\b\b\b\b\b\b\b\b\b\b\b\b\b\b\b\b\b\b\b\b\b\b\b\b\b\b\b\b\b\b\b\b\b\b\b\b\b\b\b\b\b\b\b\b\b\b\b\b\b\b\b\b\b\b\b\b\b\b\b\b\b\b\b\b\b\b\b\b\b\b\b\b\b\b\b\b\b\b\b\b\b\b\b\b\b\b\b\b\b\b\b\b\b\b\b\b\b\b\b\b\b\b\b\b\b\b\b\b\b\b\b\b\b\b\b\b\b\b\b\b\b\b\b\b\b\b\b\b\b\b\b\b\b\b\b\b\b\b\b\b\b\b\b\b\b\b\b\b\b\b\b\b\b\b\b\b\b\b\b\b\b\b\b\b\b\b\b\b\b\b\b\b\b\b\b\b\b\b\b\b\b\b\b\b\b\b\b\n",
      "Epoch 5/20\n",
      "9/9 [==============================] - 5s 583ms/step - loss: 0.0089\b\b\b\b\b\b\b\b\b\b\b\b\b\b\b\b\b\b\b\b\b\b\b\b\b\b\b\b\b\b\b\b\b\b\b\b\b\b\b\b\b\b\b\b\b\b\b\b\b\b\b\b\b\b\b\b\b\b\b\b\b\b\b\b\b\b\b\b\b\b\b\b\b\b\b\b\b\b\b\b\b\b\b\b\b\b\b\b\b\b\b\b\b\b\b\b\b\b\b\b\b\b\b\b\b\b\b\b\b\b\b\b\b\b\b\b\b\b\b\b\b\b\b\b\b\b\b\b\b\b\b\b\b\b\b\b\b\b\b\b\b\b\b\b\b\b\b\b\b\b\b\b\b\b\b\b\b\b\b\b\b\b\b\b\b\b\b\b\b\b\b\b\b\b\b\b\b\b\b\b\b\b\b\b\b\b\b\b\b\b\b\b\b\b\b\b\b\b\b\b\b\b\b\b\b\b\b\b\b\b\b\b\b\b\b\b\b\b\b\b\b\b\b\b\b\b\b\b\b\b\b\b\b\b\b\b\b\b\b\b\b\b\b\b\b\b\b\b\b\b\b\b\b\b\b\b\b\b\b\b\b\b\b\b\b\b\b\b\b\b\b\b\b\b\b\b\b\b\b\b\b\b\b\b\b\b\b\b\b\b\b\b\b\b\b\b\b\b\b\b\b\b\b\b\b\b\b\b\b\b\b\b\b\b\b\b\b\b\b\b\b\b\b\b\b\b\b\b\b\b\b\b\b\b\b\b\b\b\b\b\b\b\b\b\b\b\b\b\b\b\b\b\b\b\b\b\b\b\b\b\b\b\b\b\b\b\b\b\b\b\b\b\b\b\b\b\b\b\b\b\b\b\b\b\b\b\b\b\b\b\b\b\b\b\b\b\b\b\b\b\b\b\b\b\b\b\b\b\b\b\b\b\b\b\b\b\b\b\b\b\b\b\b\b\b\b\b\b\b\b\b\b\b\b\b\b\b\b\b\b\b\b\b\b\b\b\b\b\b\b\b\b\b\b\b\b\b\b\b\b\b\b\b\b\b\b\b\b\b\b\b\b\b\b\b\b\b\b\b\b\b\b\b\b\b\b\b\b\b\b\b\b\b\b\b\b\b\b\b\b\b\b\b\b\b\b\b\b\b\b\b\b\b\b\b\b\b\b\b\b\b\b\b\b\b\b\b\b\b\b\b\b\b\b\b\b\b\b\b\b\b\b\b\n",
      "Epoch 6/20\n",
      "9/9 [==============================] - 5s 594ms/step - loss: 0.0065\b\b\b\b\b\b\b\b\b\b\b\b\b\b\b\b\b\b\b\b\b\b\b\b\b\b\b\b\b\b\b\b\b\b\b\b\b\b\b\b\b\b\b\b\b\b\b\b\b\b\b\b\b\b\b\b\b\b\b\b\b\b\b\b\b\b\b\b\b\b\b\b\b\b\b\b\b\b\b\b\b\b\b\b\b\b\b\b\b\b\b\b\b\b\b\b\b\b\b\b\b\b\b\b\b\b\b\b\b\b\b\b\b\b\b\b\b\b\b\b\b\b\b\b\b\b\b\b\b\b\b\b\b\b\b\b\b\b\b\b\b\b\b\b\b\b\b\b\b\b\b\b\b\b\b\b\b\b\b\b\b\b\b\b\b\b\b\b\b\b\b\b\b\b\b\b\b\b\b\b\b\b\b\b\b\b\b\b\b\b\b\b\b\b\b\b\b\b\b\b\b\b\b\b\b\b\b\b\b\b\b\b\b\b\b\b\b\b\b\b\b\b\b\b\b\b\b\b\b\b\b\b\b\b\b\b\b\b\b\b\b\b\b\b\b\b\b\b\b\b\b\b\b\b\b\b\b\b\b\b\b\b\b\b\b\b\b\b\b\b\b\b\b\b\b\b\b\b\b\b\b\b\b\b\b\b\b\b\b\b\b\b\b\b\b\b\b\b\b\b\b\b\b\b\b\b\b\b\b\b\b\b\b\b\b\b\b\b\b\b\b\b\b\b\b\b\b\b\b\b\b\b\b\b\b\b\b\b\b\b\b\b\b\b\b\b\b\b\b\b\b\b\b\b\b\b\b\b\b\b\b\b\b\b\b\b\b\b\b\b\b\b\b\b\b\b\b\b\b\b\b\b\b\b\b\b\b\b\b\b\b\b\b\b\b\b\b\b\b\b\b\b\b\b\b\b\b\b\b\b\b\b\b\b\b\b\b\b\b\b\b\b\b\b\b\b\b\b\b\b\b\b\b\b\b\b\b\b\b\b\b\b\b\b\b\b\b\b\b\b\b\b\b\b\b\b\b\b\b\b\b\b\b\b\b\b\b\b\b\b\b\b\b\b\b\b\b\b\b\b\b\b\b\b\b\b\b\b\b\b\b\b\b\b\b\b\b\b\b\b\b\b\b\b\b\b\b\b\b\b\b\b\b\b\b\b\b\b\b\b\b\b\b\b\b\b\b\b\b\b\b\b\b\b\b\b\b\b\b\b\b\b\b\n",
      "Epoch 7/20\n",
      "9/9 [==============================] - 5s 565ms/step - loss: 0.0081\b\b\b\b\b\b\b\b\b\b\b\b\b\b\b\b\b\b\b\b\b\b\b\b\b\b\b\b\b\b\b\b\b\b\b\b\b\b\b\b\b\b\b\b\b\b\b\b\b\b\b\b\b\b\b\b\b\b\b\b\b\b\b\b\b\b\b\b\b\b\b\b\b\b\b\b\b\b\b\b\b\b\b\b\b\b\b\b\b\b\b\b\b\b\b\b\b\b\b\b\b\b\b\b\b\b\b\b\b\b\b\b\b\b\b\b\b\b\b\b\b\b\b\b\b\b\b\b\b\b\b\b\b\b\b\b\b\b\b\b\b\b\b\b\b\b\b\b\b\b\b\b\b\b\b\b\b\b\b\b\b\b\b\b\b\b\b\b\b\b\b\b\b\b\b\b\b\b\b\b\b\b\b\b\b\b\b\b\b\b\b\b\b\b\b\b\b\b\b\b\b\b\b\b\b\b\b\b\b\b\b\b\b\b\b\b\b\b\b\b\b\b\b\b\b\b\b\b\b\b\b\b\b\b\b\b\b\b\b\b\b\b\b\b\b\b\b\b\b\b\b\b\b\b\b\b\b\b\b\b\b\b\b\b\b\b\b\b\b\b\b\b\b\b\b\b\b\b\b\b\b\b\b\b\b\b\b\b\b\b\b\b\b\b\b\b\b\b\b\b\b\b\b\b\b\b\b\b\b\b\b\b\b\b\b\b\b\b\b\b\b\b\b\b\b\b\b\b\b\b\b\b\b\b\b\b\b\b\b\b\b\b\b\b\b\b\b\b\b\b\b\b\b\b\b\b\b\b\b\b\b\b\b\b\b\b\b\b\b\b\b\b\b\b\b\b\b\b\b\b\b\b\b\b\b\b\b\b\b\b\b\b\b\b\b\b\b\b\b\b\b\b\b\b\b\b\b\b\b\b\b\b\b\b\b\b\b\b\b\b\b\b\b\b\b\b\b\b\b\b\b\b\b\b\b\b\b\b\b\b\b\b\b\b\b\b\b\b\b\b\b\b\b\b\b\b\b\b\b\b\b\b\b\b\b\b\b\b\b\b\b\b\b\b\b\b\b\b\b\b\b\b\b\b\b\b\b\b\b\b\b\b\b\b\b\b\b\b\b\b\b\b\b\b\b\b\b\b\b\b\b\b\b\b\b\b\b\b\b\b\b\b\b\b\b\b\b\b\b\b\b\b\b\b\b\b\b\b\b\b\b\b\b\n",
      "Epoch 8/20\n",
      "9/9 [==============================] - 6s 612ms/step - loss: 0.0071\b\b\b\b\b\b\b\b\b\b\b\b\b\b\b\b\b\b\b\b\b\b\b\b\b\b\b\b\b\b\b\b\b\b\b\b\b\b\b\b\b\b\b\b\b\b\b\b\b\b\b\b\b\b\b\b\b\b\b\b\b\b\b\b\b\b\b\b\b\b\b\b\b\b\b\b\b\b\b\b\b\b\b\b\b\b\b\b\b\b\b\b\b\b\b\b\b\b\b\b\b\b\b\b\b\b\b\b\b\b\b\b\b\b\b\b\b\b\b\b\b\b\b\b\b\b\b\b\b\b\b\b\b\b\b\b\b\b\b\b\b\b\b\b\b\b\b\b\b\b\b\b\b\b\b\b\b\b\b\b\b\b\b\b\b\b\b\b\b\b\b\b\b\b\b\b\b\b\b\b\b\b\b\b\b\b\b\b\b\b\b\b\b\b\b\b\b\b\b\b\b\b\b\b\b\b\b\b\b\b\b\b\b\b\b\b\b\b\b\b\b\b\b\b\b\b\b\b\b\b\b\b\b\b\b\b\b\b\b\b\b\b\b\b\b\b\b\b\b\b\b\b\b\b\b\b\b\b\b\b\b\b\b\b\b\b\b\b\b\b\b\b\b\b\b\b\b\b\b\b\b\b\b\b\b\b\b\b\b\b\b\b\b\b\b\b\b\b\b\b\b\b\b\b\b\b\b\b\b\b\b\b\b\b\b\b\b\b\b\b\b\b\b\b\b\b\b\b\b\b\b\b\b\b\b\b\b\b\b\b\b\b\b\b\b\b\b\b\b\b\b\b\b\b\b\b\b\b\b\b\b\b\b\b\b\b\b\b\b\b\b\b\b\b\b\b\b\b\b\b\b\b\b\b\b\b\b\b\b\b\b\b\b\b\b\b\b\b\b\b\b\b\b\b\b\b\b\b\b\b\b\b\b\b\b\b\b\b\b\b\b\b\b\b\b\b\b\b\b\b\b\b\b\b\b\b\b\b\b\b\b\b\b\b\b\b\b\b\b\b\b\b\b\b\b\b\b\b\b\b\b\b\b\b\b\b\b\b\b\b\b\b\b\b\b\b\b\b\b\b\b\b\b\b\b\b\b\b\b\b\b\b\b\b\b\b\b\b\b\b\b\b\b\b\b\b\b\b\b\b\b\b\b\b\b\b\b\b\b\b\b\b\b\b\b\b\b\b\b\b\b\b\b\b\b\b\b\b\b\b\b\b\b\n",
      "Epoch 9/20\n",
      "9/9 [==============================] - 5s 583ms/step - loss: 0.0080\b\b\b\b\b\b\b\b\b\b\b\b\b\b\b\b\b\b\b\b\b\b\b\b\b\b\b\b\b\b\b\b\b\b\b\b\b\b\b\b\b\b\b\b\b\b\b\b\b\b\b\b\b\b\b\b\b\b\b\b\b\b\b\b\b\b\b\b\b\b\b\b\b\b\b\b\b\b\b\b\b\b\b\b\b\b\b\b\b\b\b\b\b\b\b\b\b\b\b\b\b\b\b\b\b\b\b\b\b\b\b\b\b\b\b\b\b\b\b\b\b\b\b\b\b\b\b\b\b\b\b\b\b\b\b\b\b\b\b\b\b\b\b\b\b\b\b\b\b\b\b\b\b\b\b\b\b\b\b\b\b\b\b\b\b\b\b\b\b\b\b\b\b\b\b\b\b\b\b\b\b\b\b\b\b\b\b\b\b\b\b\b\b\b\b\b\b\b\b\b\b\b\b\b\b\b\b\b\b\b\b\b\b\b\b\b\b\b\b\b\b\b\b\b\b\b\b\b\b\b\b\b\b\b\b\b\b\b\b\b\b\b\b\b\b\b\b\b\b\b\b\b\b\b\b\b\b\b\b\b\b\b\b\b\b\b\b\b\b\b\b\b\b\b\b\b\b\b\b\b\b\b\b\b\b\b\b\b\b\b\b\b\b\b\b\b\b\b\b\b\b\b\b\b\b\b\b\b\b\b\b\b\b\b\b\b\b\b\b\b\b\b\b\b\b\b\b\b\b\b\b\b\b\b\b\b\b\b\b\b\b\b\b\b\b\b\b\b\b\b\b\b\b\b\b\b\b\b\b\b\b\b\b\b\b\b\b\b\b\b\b\b\b\b\b\b\b\b\b\b\b\b\b\b\b\b\b\b\b\b\b\b\b\b\b\b\b\b\b\b\b\b\b\b\b\b\b\b\b\b\b\b\b\b\b\b\b\b\b\b\b\b\b\b\b\b\b\b\b\b\b\b\b\b\b\b\b\b\b\b\b\b\b\b\b\b\b\b\b\b\b\b\b\b\b\b\b\b\b\b\b\b\b\b\b\b\b\b\b\b\b\b\b\b\b\b\b\b\b\b\b\b\b\b\b\b\b\b\b\b\b\b\b\b\b\b\b\b\b\b\b\b\b\b\b\b\b\b\b\b\b\b\b\b\b\b\b\b\b\b\b\b\b\b\b\b\b\b\b\b\b\b\b\b\b\b\b\b\b\b\b\b\b\n",
      "Epoch 10/20\n",
      "9/9 [==============================] - 6s 621ms/step - loss: 0.0075\b\b\b\b\b\b\b\b\b\b\b\b\b\b\b\b\b\b\b\b\b\b\b\b\b\b\b\b\b\b\b\b\b\b\b\b\b\b\b\b\b\b\b\b\b\b\b\b\b\b\b\b\b\b\b\b\b\b\b\b\b\b\b\b\b\b\b\b\b\b\b\b\b\b\b\b\b\b\b\b\b\b\b\b\b\b\b\b\b\b\b\b\b\b\b\b\b\b\b\b\b\b\b\b\b\b\b\b\b\b\b\b\b\b\b\b\b\b\b\b\b\b\b\b\b\b\b\b\b\b\b\b\b\b\b\b\b\b\b\b\b\b\b\b\b\b\b\b\b\b\b\b\b\b\b\b\b\b\b\b\b\b\b\b\b\b\b\b\b\b\b\b\b\b\b\b\b\b\b\b\b\b\b\b\b\b\b\b\b\b\b\b\b\b\b\b\b\b\b\b\b\b\b\b\b\b\b\b\b\b\b\b\b\b\b\b\b\b\b\b\b\b\b\b\b\b\b\b\b\b\b\b\b\b\b\b\b\b\b\b\b\b\b\b\b\b\b\b\b\b\b\b\b\b\b\b\b\b\b\b\b\b\b\b\b\b\b\b\b\b\b\b\b\b\b\b\b\b\b\b\b\b\b\b\b\b\b\b\b\b\b\b\b\b\b\b\b\b\b\b\b\b\b\b\b\b\b\b\b\b\b\b\b\b\b\b\b\b\b\b\b\b\b\b\b\b\b\b\b\b\b\b\b\b\b\b\b\b\b\b\b\b\b\b\b\b\b\b\b\b\b\b\b\b\b\b\b\b\b\b\b\b\b\b\b\b\b\b\b\b\b\b\b\b\b\b\b\b\b\b\b\b\b\b\b\b\b\b\b\b\b\b\b\b\b\b\b\b\b\b\b\b\b\b\b\b\b\b\b\b\b\b\b\b\b\b\b\b\b\b\b\b\b\b\b\b\b\b\b\b\b\b\b\b\b\b\b\b\b\b\b\b\b\b\b\b\b\b\b\b\b\b\b\b\b\b\b\b\b\b\b\b\b\b\b\b\b\b\b\b\b\b\b\b\b\b\b\b\b\b\b\b\b\b\b\b\b\b\b\b\b\b\b\b\b\b\b\b\b\b\b\b\b\b\b\b\b\b\b\b\b\b\b\b\b\b\b\b\b\b\b\b\b\b\b\b\b\b\b\b\b\b\b\b\b\b\b\b\b\b\b\b\b\n",
      "Epoch 11/20\n",
      "9/9 [==============================] - 5s 589ms/step - loss: 0.0071\b\b\b\b\b\b\b\b\b\b\b\b\b\b\b\b\b\b\b\b\b\b\b\b\b\b\b\b\b\b\b\b\b\b\b\b\b\b\b\b\b\b\b\b\b\b\b\b\b\b\b\b\b\b\b\b\b\b\b\b\b\b\b\b\b\b\b\b\b\b\b\b\b\b\b\b\b\b\b\b\b\b\b\b\b\b\b\b\b\b\b\b\b\b\b\b\b\b\b\b\b\b\b\b\b\b\b\b\b\b\b\b\b\b\b\b\b\b\b\b\b\b\b\b\b\b\b\b\b\b\b\b\b\b\b\b\b\b\b\b\b\b\b\b\b\b\b\b\b\b\b\b\b\b\b\b\b\b\b\b\b\b\b\b\b\b\b\b\b\b\b\b\b\b\b\b\b\b\b\b\b\b\b\b\b\b\b\b\b\b\b\b\b\b\b\b\b\b\b\b\b\b\b\b\b\b\b\b\b\b\b\b\b\b\b\b\b\b\b\b\b\b\b\b\b\b\b\b\b\b\b\b\b\b\b\b\b\b\b\b\b\b\b\b\b\b\b\b\b\b\b\b\b\b\b\b\b\b\b\b\b\b\b\b\b\b\b\b\b\b\b\b\b\b\b\b\b\b\b\b\b\b\b\b\b\b\b\b\b\b\b\b\b\b\b\b\b\b\b\b\b\b\b\b\b\b\b\b\b\b\b\b\b\b\b\b\b\b\b\b\b\b\b\b\b\b\b\b\b\b\b\b\b\b\b\b\b\b\b\b\b\b\b\b\b\b\b\b\b\b\b\b\b\b\b\b\b\b\b\b\b\b\b\b\b\b\b\b\b\b\b\b\b\b\b\b\b\b\b\b\b\b\b\b\b\b\b\b\b\b\b\b\b\b\b\b\b\b\b\b\b\b\b\b\b\b\b\b\b\b\b\b\b\b\b\b\b\b\b\b\b\b\b\b\b\b\b\b\b\b\b\b\b\b\b\b\b\b\b\b\b\b\b\b\b\b\b\b\b\b\b\b\b\b\b\b\b\b\b\b\b\b\b\b\b\b\b\b\b\b\b\b\b\b\b\b\b\b\b\b\b\b\b\b\b\b\b\b\b\b\b\b\b\b\b\b\b\b\b\b\b\b\b\b\b\b\b\b\b\b\b\b\b\b\b\b\b\b\b\b\b\b\b\b\b\b\b\b\b\b\b\b\b\b\b\b\b\b\b\b\b\b\b\n",
      "Epoch 12/20\n",
      "9/9 [==============================] - 5s 608ms/step - loss: 0.0072\b\b\b\b\b\b\b\b\b\b\b\b\b\b\b\b\b\b\b\b\b\b\b\b\b\b\b\b\b\b\b\b\b\b\b\b\b\b\b\b\b\b\b\b\b\b\b\b\b\b\b\b\b\b\b\b\b\b\b\b\b\b\b\b\b\b\b\b\b\b\b\b\b\b\b\b\b\b\b\b\b\b\b\b\b\b\b\b\b\b\b\b\b\b\b\b\b\b\b\b\b\b\b\b\b\b\b\b\b\b\b\b\b\b\b\b\b\b\b\b\b\b\b\b\b\b\b\b\b\b\b\b\b\b\b\b\b\b\b\b\b\b\b\b\b\b\b\b\b\b\b\b\b\b\b\b\b\b\b\b\b\b\b\b\b\b\b\b\b\b\b\b\b\b\b\b\b\b\b\b\b\b\b\b\b\b\b\b\b\b\b\b\b\b\b\b\b\b\b\b\b\b\b\b\b\b\b\b\b\b\b\b\b\b\b\b\b\b\b\b\b\b\b\b\b\b\b\b\b\b\b\b\b\b\b\b\b\b\b\b\b\b\b\b\b\b\b\b\b\b\b\b\b\b\b\b\b\b\b\b\b\b\b\b\b\b\b\b\b\b\b\b\b\b\b\b\b\b\b\b\b\b\b\b\b\b\b\b\b\b\b\b\b\b\b\b\b\b\b\b\b\b\b\b\b\b\b\b\b\b\b\b\b\b\b\b\b\b\b\b\b\b\b\b\b\b\b\b\b\b\b\b\b\b\b\b\b\b\b\b\b\b\b\b\b\b\b\b\b\b\b\b\b\b\b\b\b\b\b\b\b\b\b\b\b\b\b\b\b\b\b\b\b\b\b\b\b\b\b\b\b\b\b\b\b\b\b\b\b\b\b\b\b\b\b\b\b\b\b\b\b\b\b\b\b\b\b\b\b\b\b\b\b\b\b\b\b\b\b\b\b\b\b\b\b\b\b\b\b\b\b\b\b\b\b\b\b\b\b\b\b\b\b\b\b\b\b\b\b\b\b\b\b\b\b\b\b\b\b\b\b\b\b\b\b\b\b\b\b\b\b\b\b\b\b\b\b\b\b\b\b\b\b\b\b\b\b\b\b\b\b\b\b\b\b\b\b\b\b\b\b\b\b\b\b\b\b\b\b\b\b\b\b\b\b\b\b\b\b\b\b\b\b\b\b\b\b\b\b\b\b\b\b\b\b\b\b\b\b\b\b\b\b\n",
      "Epoch 13/20\n",
      "9/9 [==============================] - 5s 609ms/step - loss: 0.0063\b\b\b\b\b\b\b\b\b\b\b\b\b\b\b\b\b\b\b\b\b\b\b\b\b\b\b\b\b\b\b\b\b\b\b\b\b\b\b\b\b\b\b\b\b\b\b\b\b\b\b\b\b\b\b\b\b\b\b\b\b\b\b\b\b\b\b\b\b\b\b\b\b\b\b\b\b\b\b\b\b\b\b\b\b\b\b\b\b\b\b\b\b\b\b\b\b\b\b\b\b\b\b\b\b\b\b\b\b\b\b\b\b\b\b\b\b\b\b\b\b\b\b\b\b\b\b\b\b\b\b\b\b\b\b\b\b\b\b\b\b\b\b\b\b\b\b\b\b\b\b\b\b\b\b\b\b\b\b\b\b\b\b\b\b\b\b\b\b\b\b\b\b\b\b\b\b\b\b\b\b\b\b\b\b\b\b\b\b\b\b\b\b\b\b\b\b\b\b\b\b\b\b\b\b\b\b\b\b\b\b\b\b\b\b\b\b\b\b\b\b\b\b\b\b\b\b\b\b\b\b\b\b\b\b\b\b\b\b\b\b\b\b\b\b\b\b\b\b\b\b\b\b\b\b\b\b\b\b\b\b\b\b\b\b\b\b\b\b\b\b\b\b\b\b\b\b\b\b\b\b\b\b\b\b\b\b\b\b\b\b\b\b\b\b\b\b\b\b\b\b\b\b\b\b\b\b\b\b\b\b\b\b\b\b\b\b\b\b\b\b\b\b\b\b\b\b\b\b\b\b\b\b\b\b\b\b\b\b\b\b\b\b\b\b\b\b\b\b\b\b\b\b\b\b\b\b\b\b\b\b\b\b\b\b\b\b\b\b\b\b\b\b\b\b\b\b\b\b\b\b\b\b\b\b\b\b\b\b\b\b\b\b\b\b\b\b\b\b\b\b\b\b\b\b\b\b\b\b\b\b\b\b\b\b\b\b\b\b\b\b\b\b\b\b\b\b\b\b\b\b\b\b\b\b\b\b\b\b\b\b\b\b\b\b\b\b\b\b\b\b\b\b\b\b\b\b\b\b\b\b\b\b\b\b\b\b\b\b\b\b\b\b\b\b\b\b\b\b\b\b\b\b\b\b\b\b\b\b\b\b\b\b\b\b\b\b\b\b\b\b\b\b\b\b\b\b\b\b\b\b\b\b\b\b\b\b\b\b\b\b\b\b\b\b\b\b\b\b\b\b\b\b\b\b\b\b\b\b\b\b\b\b\n",
      "Epoch 14/20\n",
      "9/9 [==============================] - 5s 559ms/step - loss: 0.0068\b\b\b\b\b\b\b\b\b\b\b\b\b\b\b\b\b\b\b\b\b\b\b\b\b\b\b\b\b\b\b\b\b\b\b\b\b\b\b\b\b\b\b\b\b\b\b\b\b\b\b\b\b\b\b\b\b\b\b\b\b\b\b\b\b\b\b\b\b\b\b\b\b\b\b\b\b\b\b\b\b\b\b\b\b\b\b\b\b\b\b\b\b\b\b\b\b\b\b\b\b\b\b\b\b\b\b\b\b\b\b\b\b\b\b\b\b\b\b\b\b\b\b\b\b\b\b\b\b\b\b\b\b\b\b\b\b\b\b\b\b\b\b\b\b\b\b\b\b\b\b\b\b\b\b\b\b\b\b\b\b\b\b\b\b\b\b\b\b\b\b\b\b\b\b\b\b\b\b\b\b\b\b\b\b\b\b\b\b\b\b\b\b\b\b\b\b\b\b\b\b\b\b\b\b\b\b\b\b\b\b\b\b\b\b\b\b\b\b\b\b\b\b\b\b\b\b\b\b\b\b\b\b\b\b\b\b\b\b\b\b\b\b\b\b\b\b\b\b\b\b\b\b\b\b\b\b\b\b\b\b\b\b\b\b\b\b\b\b\b\b\b\b\b\b\b\b\b\b\b\b\b\b\b\b\b\b\b\b\b\b\b\b\b\b\b\b\b\b\b\b\b\b\b\b\b\b\b\b\b\b\b\b\b\b\b\b\b\b\b\b\b\b\b\b\b\b\b\b\b\b\b\b\b\b\b\b\b\b\b\b\b\b\b\b\b\b\b\b\b\b\b\b\b\b\b\b\b\b\b\b\b\b\b\b\b\b\b\b\b\b\b\b\b\b\b\b\b\b\b\b\b\b\b\b\b\b\b\b\b\b\b\b\b\b\b\b\b\b\b\b\b\b\b\b\b\b\b\b\b\b\b\b\b\b\b\b\b\b\b\b\b\b\b\b\b\b\b\b\b\b\b\b\b\b\b\b\b\b\b\b\b\b\b\b\b\b\b\b\b\b\b\b\b\b\b\b\b\b\b\b\b\b\b\b\b\b\b\b\b\b\b\b\b\b\b\b\b\b\b\b\b\b\b\b\b\b\b\b\b\b\b\b\b\b\b\b\b\b\b\b\b\b\b\b\b\b\b\b\b\b\b\b\b\b\b\b\b\b\b\b\b\b\b\b\b\b\b\b\b\b\b\b\b\b\b\b\b\b\b\b\b\b\n",
      "Epoch 15/20\n",
      "9/9 [==============================] - 5s 508ms/step - loss: 0.0078\b\b\b\b\b\b\b\b\b\b\b\b\b\b\b\b\b\b\b\b\b\b\b\b\b\b\b\b\b\b\b\b\b\b\b\b\b\b\b\b\b\b\b\b\b\b\b\b\b\b\b\b\b\b\b\b\b\b\b\b\b\b\b\b\b\b\b\b\b\b\b\b\b\b\b\b\b\b\b\b\b\b\b\b\b\b\b\b\b\b\b\b\b\b\b\b\b\b\b\b\b\b\b\b\b\b\b\b\b\b\b\b\b\b\b\b\b\b\b\b\b\b\b\b\b\b\b\b\b\b\b\b\b\b\b\b\b\b\b\b\b\b\b\b\b\b\b\b\b\b\b\b\b\b\b\b\b\b\b\b\b\b\b\b\b\b\b\b\b\b\b\b\b\b\b\b\b\b\b\b\b\b\b\b\b\b\b\b\b\b\b\b\b\b\b\b\b\b\b\b\b\b\b\b\b\b\b\b\b\b\b\b\b\b\b\b\b\b\b\b\b\b\b\b\b\b\b\b\b\b\b\b\b\b\b\b\b\b\b\b\b\b\b\b\b\b\b\b\b\b\b\b\b\b\b\b\b\b\b\b\b\b\b\b\b\b\b\b\b\b\b\b\b\b\b\b\b\b\b\b\b\b\b\b\b\b\b\b\b\b\b\b\b\b\b\b\b\b\b\b\b\b\b\b\b\b\b\b\b\b\b\b\b\b\b\b\b\b\b\b\b\b\b\b\b\b\b\b\b\b\b\b\b\b\b\b\b\b\b\b\b\b\b\b\b\b\b\b\b\b\b\b\b\b\b\b\b\b\b\b\b\b\b\b\b\b\b\b\b\b\b\b\b\b\b\b\b\b\b\b\b\b\b\b\b\b\b\b\b\b\b\b\b\b\b\b\b\b\b\b\b\b\b\b\b\b\b\b\b\b\b\b\b\b\b\b\b\b\b\b\b\b\b\b\b\b\b\b\b\b\b\b\b\b\b\b\b\b\b\b\b\b\b\b\b\b\b\b\b\b\b\b\b\b\b\b\b\b\b\b\b\b\b\b\b\b\b\b\b\b\b\b\b\b\b\b\b\b\b\b\b\b\b\b\b\b\b\b\b\b\b\b\b\b\b\b\b\b\b\b\b\b\b\b\b\b\b\b\b\b\b\b\b\b\b\b\b\b\b\b\b\b\b\b\b\b\b\b\b\b\b\b\b\b\b\b\b\b\b\b\b\b\b\n",
      "Epoch 16/20\n",
      "9/9 [==============================] - 5s 543ms/step - loss: 0.0067\b\b\b\b\b\b\b\b\b\b\b\b\b\b\b\b\b\b\b\b\b\b\b\b\b\b\b\b\b\b\b\b\b\b\b\b\b\b\b\b\b\b\b\b\b\b\b\b\b\b\b\b\b\b\b\b\b\b\b\b\b\b\b\b\b\b\b\b\b\b\b\b\b\b\b\b\b\b\b\b\b\b\b\b\b\b\b\b\b\b\b\b\b\b\b\b\b\b\b\b\b\b\b\b\b\b\b\b\b\b\b\b\b\b\b\b\b\b\b\b\b\b\b\b\b\b\b\b\b\b\b\b\b\b\b\b\b\b\b\b\b\b\b\b\b\b\b\b\b\b\b\b\b\b\b\b\b\b\b\b\b\b\b\b\b\b\b\b\b\b\b\b\b\b\b\b\b\b\b\b\b\b\b\b\b\b\b\b\b\b\b\b\b\b\b\b\b\b\b\b\b\b\b\b\b\b\b\b\b\b\b\b\b\b\b\b\b\b\b\b\b\b\b\b\b\b\b\b\b\b\b\b\b\b\b\b\b\b\b\b\b\b\b\b\b\b\b\b\b\b\b\b\b\b\b\b\b\b\b\b\b\b\b\b\b\b\b\b\b\b\b\b\b\b\b\b\b\b\b\b\b\b\b\b\b\b\b\b\b\b\b\b\b\b\b\b\b\b\b\b\b\b\b\b\b\b\b\b\b\b\b\b\b\b\b\b\b\b\b\b\b\b\b\b\b\b\b\b\b\b\b\b\b\b\b\b\b\b\b\b\b\b\b\b\b\b\b\b\b\b\b\b\b\b\b\b\b\b\b\b\b\b\b\b\b\b\b\b\b\b\b\b\b\b\b\b\b\b\b\b\b\b\b\b\b\b\b\b\b\b\b\b\b\b\b\b\b\b\b\b\b\b\b\b\b\b\b\b\b\b\b\b\b\b\b\b\b\b\b\b\b\b\b\b\b\b\b\b\b\b\b\b\b\b\b\b\b\b\b\b\b\b\b\b\b\b\b\b\b\b\b\b\b\b\b\b\b\b\b\b\b\b\b\b\b\b\b\b\b\b\b\b\b\b\b\b\b\b\b\b\b\b\b\b\b\b\b\b\b\b\b\b\b\b\b\b\b\b\b\b\b\b\b\b\b\b\b\b\b\b\b\b\b\b\b\b\b\b\b\b\b\b\b\b\b\b\b\b\b\b\b\b\b\b\b\b\b\b\b\b\b\b\b\n",
      "Epoch 17/20\n",
      "9/9 [==============================] - 5s 531ms/step - loss: 0.0057\b\b\b\b\b\b\b\b\b\b\b\b\b\b\b\b\b\b\b\b\b\b\b\b\b\b\b\b\b\b\b\b\b\b\b\b\b\b\b\b\b\b\b\b\b\b\b\b\b\b\b\b\b\b\b\b\b\b\b\b\b\b\b\b\b\b\b\b\b\b\b\b\b\b\b\b\b\b\b\b\b\b\b\b\b\b\b\b\b\b\b\b\b\b\b\b\b\b\b\b\b\b\b\b\b\b\b\b\b\b\b\b\b\b\b\b\b\b\b\b\b\b\b\b\b\b\b\b\b\b\b\b\b\b\b\b\b\b\b\b\b\b\b\b\b\b\b\b\b\b\b\b\b\b\b\b\b\b\b\b\b\b\b\b\b\b\b\b\b\b\b\b\b\b\b\b\b\b\b\b\b\b\b\b\b\b\b\b\b\b\b\b\b\b\b\b\b\b\b\b\b\b\b\b\b\b\b\b\b\b\b\b\b\b\b\b\b\b\b\b\b\b\b\b\b\b\b\b\b\b\b\b\b\b\b\b\b\b\b\b\b\b\b\b\b\b\b\b\b\b\b\b\b\b\b\b\b\b\b\b\b\b\b\b\b\b\b\b\b\b\b\b\b\b\b\b\b\b\b\b\b\b\b\b\b\b\b\b\b\b\b\b\b\b\b\b\b\b\b\b\b\b\b\b\b\b\b\b\b\b\b\b\b\b\b\b\b\b\b\b\b\b\b\b\b\b\b\b\b\b\b\b\b\b\b\b\b\b\b\b\b\b\b\b\b\b\b\b\b\b\b\b\b\b\b\b\b\b\b\b\b\b\b\b\b\b\b\b\b\b\b\b\b\b\b\b\b\b\b\b\b\b\b\b\b\b\b\b\b\b\b\b\b\b\b\b\b\b\b\b\b\b\b\b\b\b\b\b\b\b\b\b\b\b\b\b\b\b\b\b\b\b\b\b\b\b\b\b\b\b\b\b\b\b\b\b\b\b\b\b\b\b\b\b\b\b\b\b\b\b\b\b\b\b\b\b\b\b\b\b\b\b\b\b\b\b\b\b\b\b\b\b\b\b\b\b\b\b\b\b\b\b\b\b\b\b\b\b\b\b\b\b\b\b\b\b\b\b\b\b\b\b\b\b\b\b\b\b\b\b\b\b\b\b\b\b\b\b\b\b\b\b\b\b\b\b\b\b\b\b\b\b\b\b\b\b\b\b\b\b\b\b\b\n",
      "Epoch 18/20\n",
      "9/9 [==============================] - 5s 500ms/step - loss: 0.0060\b\b\b\b\b\b\b\b\b\b\b\b\b\b\b\b\b\b\b\b\b\b\b\b\b\b\b\b\b\b\b\b\b\b\b\b\b\b\b\b\b\b\b\b\b\b\b\b\b\b\b\b\b\b\b\b\b\b\b\b\b\b\b\b\b\b\b\b\b\b\b\b\b\b\b\b\b\b\b\b\b\b\b\b\b\b\b\b\b\b\b\b\b\b\b\b\b\b\b\b\b\b\b\b\b\b\b\b\b\b\b\b\b\b\b\b\b\b\b\b\b\b\b\b\b\b\b\b\b\b\b\b\b\b\b\b\b\b\b\b\b\b\b\b\b\b\b\b\b\b\b\b\b\b\b\b\b\b\b\b\b\b\b\b\b\b\b\b\b\b\b\b\b\b\b\b\b\b\b\b\b\b\b\b\b\b\b\b\b\b\b\b\b\b\b\b\b\b\b\b\b\b\b\b\b\b\b\b\b\b\b\b\b\b\b\b\b\b\b\b\b\b\b\b\b\b\b\b\b\b\b\b\b\b\b\b\b\b\b\b\b\b\b\b\b\b\b\b\b\b\b\b\b\b\b\b\b\b\b\b\b\b\b\b\b\b\b\b\b\b\b\b\b\b\b\b\b\b\b\b\b\b\b\b\b\b\b\b\b\b\b\b\b\b\b\b\b\b\b\b\b\b\b\b\b\b\b\b\b\b\b\b\b\b\b\b\b\b\b\b\b\b\b\b\b\b\b\b\b\b\b\b\b\b\b\b\b\b\b\b\b\b\b\b\b\b\b\b\b\b\b\b\b\b\b\b\b\b\b\b\b\b\b\b\b\b\b\b\b\b\b\b\b\b\b\b\b\b\b\b\b\b\b\b\b\b\b\b\b\b\b\b\b\b\b\b\b\b\b\b\b\b\b\b\b\b\b\b\b\b\b\b\b\b\b\b\b\b\b\b\b\b\b\b\b\b\b\b\b\b\b\b\b\b\b\b\b\b\b\b\b\b\b\b\b\b\b\b\b\b\b\b\b\b\b\b\b\b\b\b\b\b\b\b\b\b\b\b\b\b\b\b\b\b\b\b\b\b\b\b\b\b\b\b\b\b\b\b\b\b\b\b\b\b\b\b\b\b\b\b\b\b\b\b\b\b\b\b\b\b\b\b\b\b\b\b\b\b\b\b\b\b\b\b\b\b\b\b\b\b\b\b\b\b\b\b\b\b\b\b\b\b\b\n",
      "Epoch 19/20\n",
      "9/9 [==============================] - 5s 534ms/step - loss: 0.0059\b\b\b\b\b\b\b\b\b\b\b\b\b\b\b\b\b\b\b\b\b\b\b\b\b\b\b\b\b\b\b\b\b\b\b\b\b\b\b\b\b\b\b\b\b\b\b\b\b\b\b\b\b\b\b\b\b\b\b\b\b\b\b\b\b\b\b\b\b\b\b\b\b\b\b\b\b\b\b\b\b\b\b\b\b\b\b\b\b\b\b\b\b\b\b\b\b\b\b\b\b\b\b\b\b\b\b\b\b\b\b\b\b\b\b\b\b\b\b\b\b\b\b\b\b\b\b\b\b\b\b\b\b\b\b\b\b\b\b\b\b\b\b\b\b\b\b\b\b\b\b\b\b\b\b\b\b\b\b\b\b\b\b\b\b\b\b\b\b\b\b\b\b\b\b\b\b\b\b\b\b\b\b\b\b\b\b\b\b\b\b\b\b\b\b\b\b\b\b\b\b\b\b\b\b\b\b\b\b\b\b\b\b\b\b\b\b\b\b\b\b\b\b\b\b\b\b\b\b\b\b\b\b\b\b\b\b\b\b\b\b\b\b\b\b\b\b\b\b\b\b\b\b\b\b\b\b\b\b\b\b\b\b\b\b\b\b\b\b\b\b\b\b\b\b\b\b\b\b\b\b\b\b\b\b\b\b\b\b\b\b\b\b\b\b\b\b\b\b\b\b\b\b\b\b\b\b\b\b\b\b\b\b\b\b\b\b\b\b\b\b\b\b\b\b\b\b\b\b\b\b\b\b\b\b\b\b\b\b\b\b\b\b\b\b\b\b\b\b\b\b\b\b\b\b\b\b\b\b\b\b\b\b\b\b\b\b\b\b\b\b\b\b\b\b\b\b\b\b\b\b\b\b\b\b\b\b\b\b\b\b\b\b\b\b\b\b\b\b\b\b\b\b\b\b\b\b\b\b\b\b\b\b\b\b\b\b\b\b\b\b\b\b\b\b\b\b\b\b\b\b\b\b\b\b\b\b\b\b\b\b\b\b\b\b\b\b\b\b\b\b\b\b\b\b\b\b\b\b\b\b\b\b\b\b\b\b\b\b\b\b\b\b\b\b\b\b\b\b\b\b\b\b\b\b\b\b\b\b\b\b\b\b\b\b\b\b\b\b\b\b\b\b\b\b\b\b\b\b\b\b\b\b\b\b\b\b\b\b\b\b\b\b\b\b\b\b\b\b\b\b\b\b\b\b\b\b\b\b\b\b\b\b\n",
      "Epoch 20/20\n",
      "9/9 [==============================] - 5s 533ms/step - loss: 0.0069\b\b\b\b\b\b\b\b\b\b\b\b\b\b\b\b\b\b\b\b\b\b\b\b\b\b\b\b\b\b\b\b\b\b\b\b\b\b\b\b\b\b\b\b\b\b\b\b\b\b\b\b\b\b\b\b\b\b\b\b\b\b\b\b\b\b\b\b\b\b\b\b\b\b\b\b\b\b\b\b\b\b\b\b\b\b\b\b\b\b\b\b\b\b\b\b\b\b\b\b\b\b\b\b\b\b\b\b\b\b\b\b\b\b\b\b\b\b\b\b\b\b\b\b\b\b\b\b\b\b\b\b\b\b\b\b\b\b\b\b\b\b\b\b\b\b\b\b\b\b\b\b\b\b\b\b\b\b\b\b\b\b\b\b\b\b\b\b\b\b\b\b\b\b\b\b\b\b\b\b\b\b\b\b\b\b\b\b\b\b\b\b\b\b\b\b\b\b\b\b\b\b\b\b\b\b\b\b\b\b\b\b\b\b\b\b\b\b\b\b\b\b\b\b\b\b\b\b\b\b\b\b\b\b\b\b\b\b\b\b\b\b\b\b\b\b\b\b\b\b\b\b\b\b\b\b\b\b\b\b\b\b\b\b\b\b\b\b\b\b\b\b\b\b\b\b\b\b\b\b\b\b\b\b\b\b\b\b\b\b\b\b\b\b\b\b\b\b\b\b\b\b\b\b\b\b\b\b\b\b\b\b\b\b\b\b\b\b\b\b\b\b\b\b\b\b\b\b\b\b\b\b\b\b\b\b\b\b\b\b\b\b\b\b\b\b\b\b\b\b\b\b\b\b\b\b\b\b\b\b\b\b\b\b\b\b\b\b\b\b\b\b\b\b\b\b\b\b\b\b\b\b\b\b\b\b\b\b\b\b\b\b\b\b\b\b\b\b\b\b\b\b\b\b\b\b\b\b\b\b\b\b\b\b\b\b\b\b\b\b\b\b\b\b\b\b\b\b\b\b\b\b\b\b\b\b\b\b\b\b\b\b\b\b\b\b\b\b\b\b\b\b\b\b\b\b\b\b\b\b\b\b\b\b\b\b\b\b\b\b\b\b\b\b\b\b\b\b\b\b\b\b\b\b\b\b\b\b\b\b\b\b\b\b\b\b\b\b\b\b\b\b\b\b\b\b\b\b\b\b\b\b\b\b\b\b\b\b\b\b\b\b\b\b\b\b\b\b\b\b\b\b\b\b\b\b\b\b\b\b\b\b\b\n"
     ]
    },
    {
     "data": {
      "text/plain": "<tensorflow.python.keras.callbacks.History at 0x147a980d0>"
     },
     "execution_count": 14,
     "metadata": {},
     "output_type": "execute_result"
    }
   ],
   "source": [
    "model.fit(x_train, y_train, epochs=20, batch_size=32, verbose=1)"
   ],
   "metadata": {
    "collapsed": false,
    "pycharm": {
     "name": "#%%\n"
    }
   }
  },
  {
   "cell_type": "markdown",
   "source": [
    "### Validation"
   ],
   "metadata": {
    "collapsed": false,
    "pycharm": {
     "name": "#%% md\n"
    }
   }
  },
  {
   "cell_type": "code",
   "execution_count": 15,
   "outputs": [
    {
     "data": {
      "text/plain": "     OPEN     HIGH      LOW    close   VOLUME         rsi     bb_bbm  \\\n0  2415.00  2425.00  2378.15  2404.10  5053198  65.092053  2337.5525   \n1  2404.00  2433.80  2390.00  2422.65  1976677  67.102710  2343.9575   \n2  2420.60  2444.95  2402.95  2412.75  2813782  64.952478  2349.3625   \n3  2412.75  2433.35  2404.30  2414.10  1480323  65.116630  2353.2525   \n4  2427.00  2449.55  2418.55  2444.15  2080901  68.637834  2359.9725   \n\n        bb_bbh       bb_bbl  bb_bbhi  bb_bbli    bb_bbw    bb_bbp       macd  \\\n0  2434.669175  2240.435825      0.0      0.0  8.309261  0.842616  52.513568   \n1  2445.672918  2242.242082      0.0      0.0  8.678947  0.886827  52.961399   \n2  2453.605657  2245.119343      0.0      0.0  8.874165  0.804037  51.918972   \n3  2461.003001  2245.501999      0.0      0.0  9.157581  0.782354  50.618278   \n4  2472.682369  2247.262631      0.0      0.0  9.551795  0.873426  51.419521   \n\n   macd_diff           vpt  \n0   5.227695 -72322.672807  \n1   4.540421  -1089.854624  \n2   2.798395   3753.675250  \n3   1.198161 -10670.053769  \n4   1.599523  26730.719225  ",
      "text/html": "<div>\n<style scoped>\n    .dataframe tbody tr th:only-of-type {\n        vertical-align: middle;\n    }\n\n    .dataframe tbody tr th {\n        vertical-align: top;\n    }\n\n    .dataframe thead th {\n        text-align: right;\n    }\n</style>\n<table border=\"1\" class=\"dataframe\">\n  <thead>\n    <tr style=\"text-align: right;\">\n      <th></th>\n      <th>OPEN</th>\n      <th>HIGH</th>\n      <th>LOW</th>\n      <th>close</th>\n      <th>VOLUME</th>\n      <th>rsi</th>\n      <th>bb_bbm</th>\n      <th>bb_bbh</th>\n      <th>bb_bbl</th>\n      <th>bb_bbhi</th>\n      <th>bb_bbli</th>\n      <th>bb_bbw</th>\n      <th>bb_bbp</th>\n      <th>macd</th>\n      <th>macd_diff</th>\n      <th>vpt</th>\n    </tr>\n  </thead>\n  <tbody>\n    <tr>\n      <th>0</th>\n      <td>2415.00</td>\n      <td>2425.00</td>\n      <td>2378.15</td>\n      <td>2404.10</td>\n      <td>5053198</td>\n      <td>65.092053</td>\n      <td>2337.5525</td>\n      <td>2434.669175</td>\n      <td>2240.435825</td>\n      <td>0.0</td>\n      <td>0.0</td>\n      <td>8.309261</td>\n      <td>0.842616</td>\n      <td>52.513568</td>\n      <td>5.227695</td>\n      <td>-72322.672807</td>\n    </tr>\n    <tr>\n      <th>1</th>\n      <td>2404.00</td>\n      <td>2433.80</td>\n      <td>2390.00</td>\n      <td>2422.65</td>\n      <td>1976677</td>\n      <td>67.102710</td>\n      <td>2343.9575</td>\n      <td>2445.672918</td>\n      <td>2242.242082</td>\n      <td>0.0</td>\n      <td>0.0</td>\n      <td>8.678947</td>\n      <td>0.886827</td>\n      <td>52.961399</td>\n      <td>4.540421</td>\n      <td>-1089.854624</td>\n    </tr>\n    <tr>\n      <th>2</th>\n      <td>2420.60</td>\n      <td>2444.95</td>\n      <td>2402.95</td>\n      <td>2412.75</td>\n      <td>2813782</td>\n      <td>64.952478</td>\n      <td>2349.3625</td>\n      <td>2453.605657</td>\n      <td>2245.119343</td>\n      <td>0.0</td>\n      <td>0.0</td>\n      <td>8.874165</td>\n      <td>0.804037</td>\n      <td>51.918972</td>\n      <td>2.798395</td>\n      <td>3753.675250</td>\n    </tr>\n    <tr>\n      <th>3</th>\n      <td>2412.75</td>\n      <td>2433.35</td>\n      <td>2404.30</td>\n      <td>2414.10</td>\n      <td>1480323</td>\n      <td>65.116630</td>\n      <td>2353.2525</td>\n      <td>2461.003001</td>\n      <td>2245.501999</td>\n      <td>0.0</td>\n      <td>0.0</td>\n      <td>9.157581</td>\n      <td>0.782354</td>\n      <td>50.618278</td>\n      <td>1.198161</td>\n      <td>-10670.053769</td>\n    </tr>\n    <tr>\n      <th>4</th>\n      <td>2427.00</td>\n      <td>2449.55</td>\n      <td>2418.55</td>\n      <td>2444.15</td>\n      <td>2080901</td>\n      <td>68.637834</td>\n      <td>2359.9725</td>\n      <td>2472.682369</td>\n      <td>2247.262631</td>\n      <td>0.0</td>\n      <td>0.0</td>\n      <td>9.551795</td>\n      <td>0.873426</td>\n      <td>51.419521</td>\n      <td>1.599523</td>\n      <td>26730.719225</td>\n    </tr>\n  </tbody>\n</table>\n</div>"
     },
     "execution_count": 15,
     "metadata": {},
     "output_type": "execute_result"
    }
   ],
   "source": [
    "val_past_60_days = train_df.tail(window_size)\n",
    "val_df = val_past_60_days.append(val_df, ignore_index=True)\n",
    "val_df.head()"
   ],
   "metadata": {
    "collapsed": false,
    "pycharm": {
     "name": "#%%\n"
    }
   }
  },
  {
   "cell_type": "code",
   "execution_count": 16,
   "outputs": [
    {
     "data": {
      "text/plain": "(184, 16)"
     },
     "execution_count": 16,
     "metadata": {},
     "output_type": "execute_result"
    }
   ],
   "source": [
    "scaled_val_df = scaler.transform(val_df)\n",
    "scaled_val_df.shape"
   ],
   "metadata": {
    "collapsed": false,
    "pycharm": {
     "name": "#%%\n"
    }
   }
  },
  {
   "cell_type": "code",
   "execution_count": 17,
   "outputs": [],
   "source": [
    "X_val = []\n",
    "Y_val = []\n",
    "for i in range(window_size, scaled_val_df.shape[0]):\n",
    "    X_val.append(scaled_val_df[i-window_size: i])\n",
    "    Y_val.append(scaled_val_df[i][close_column_index])"
   ],
   "metadata": {
    "collapsed": false,
    "pycharm": {
     "name": "#%%\n"
    }
   }
  },
  {
   "cell_type": "code",
   "execution_count": 18,
   "outputs": [
    {
     "data": {
      "text/plain": "((154, 30, 16), (154,))"
     },
     "execution_count": 18,
     "metadata": {},
     "output_type": "execute_result"
    }
   ],
   "source": [
    "x_val = np.array(X_val)\n",
    "y_val = np.array(Y_val)\n",
    "x_val.shape, y_val.shape"
   ],
   "metadata": {
    "collapsed": false,
    "pycharm": {
     "name": "#%%\n"
    }
   }
  },
  {
   "cell_type": "code",
   "execution_count": 26,
   "outputs": [
    {
     "data": {
      "text/plain": "(154, 1)"
     },
     "execution_count": 26,
     "metadata": {},
     "output_type": "execute_result"
    }
   ],
   "source": [
    "y_val_predicted = model.predict(x_val)\n",
    "y_val_predicted.shape"
   ],
   "metadata": {
    "collapsed": false,
    "pycharm": {
     "name": "#%%\n"
    }
   }
  },
  {
   "cell_type": "code",
   "execution_count": 27,
   "outputs": [
    {
     "data": {
      "text/plain": "array([0.00118906, 0.00123426, 0.00120875, 0.00119904, 0.00000006,\n       0.02449045, 0.00136708, 0.00138732, 0.00131042, 1.        ,\n       1.        , 0.05782188, 0.63426815, 0.00927543, 0.02417333,\n       0.00000067])"
     },
     "execution_count": 27,
     "metadata": {},
     "output_type": "execute_result"
    }
   ],
   "source": [
    "scaler.scale_"
   ],
   "metadata": {
    "collapsed": false,
    "pycharm": {
     "name": "#%%\n"
    }
   }
  },
  {
   "cell_type": "code",
   "execution_count": 28,
   "outputs": [
    {
     "data": {
      "text/plain": "(array([     841.        ,      810.2       ,      827.3       ,\n             834.        , 18079131.        ,       40.83224595,\n             731.4875    ,      720.81536249,      763.11487893,\n               1.        ,        1.        ,       17.29448999,\n               1.57662023,      107.8116879 ,       41.36790057,\n         1496549.64108281]),\n array([   1645.        ,    1689.7       ,    1644.5       ,\n           1658.3       ,  124505.        ,      33.44862067,\n           1714.5575    ,    1786.77056166,    1626.90145073,\n              0.        ,       0.        ,       3.64189904,\n             -0.22564075,     -47.09540742,     -20.64206291,\n        -277014.69189683]),\n array([    2486.        ,     2499.9       ,     2471.8       ,\n            2492.3       , 18203636.        ,       74.28086661,\n            2446.045     ,     2507.58592416,     2390.01632966,\n               1.        ,        1.        ,       20.93638903,\n               1.35097947,       60.71628048,       20.72583767,\n         1219534.94918598]))"
     },
     "execution_count": 28,
     "metadata": {},
     "output_type": "execute_result"
    }
   ],
   "source": [
    "scale = 1 / scaler.scale_\n",
    "scale, scaler.data_min_, scaler.data_max_\n"
   ],
   "metadata": {
    "collapsed": false,
    "pycharm": {
     "name": "#%%\n"
    }
   }
  },
  {
   "cell_type": "code",
   "execution_count": 29,
   "outputs": [
    {
     "data": {
      "text/plain": "((154, 1), (154,))"
     },
     "execution_count": 29,
     "metadata": {},
     "output_type": "execute_result"
    }
   ],
   "source": [
    "Y_predicted = y_val_predicted*scale[close_column_index] + scaler.data_min_[close_column_index]\n",
    "Y_values = scaler.inverse_transform(scaled_val_df)\n",
    "Y_actual = Y_values[:, close_column_index][window_size:]\n",
    "Y_predicted.shape, Y_actual.shape"
   ],
   "metadata": {
    "collapsed": false,
    "pycharm": {
     "name": "#%%\n"
    }
   }
  },
  {
   "cell_type": "markdown",
   "source": [
    "## Visualization"
   ],
   "metadata": {
    "collapsed": false,
    "pycharm": {
     "name": "#%% md\n"
    }
   }
  },
  {
   "cell_type": "code",
   "execution_count": 30,
   "outputs": [
    {
     "data": {
      "text/plain": "<Figure size 1008x360 with 1 Axes>",
      "image/png": "[encoded data removed]"
     },
     "metadata": {
      "needs_background": "light"
     },
     "output_type": "display_data"
    }
   ],
   "source": [
    "plt.figure(figsize=(14,5))\n",
    "plt.plot(Y_actual, color=\"red\", label=\"Actual close price\")\n",
    "plt.plot(Y_predicted, color=\"blue\", label=\"Predicted close price\")\n",
    "plt.legend()\n",
    "plt.show()\n"
   ],
   "metadata": {
    "collapsed": false,
    "pycharm": {
     "name": "#%%\n"
    }
   }
  }
 ],
 "metadata": {
  "kernelspec": {
   "display_name": "Python 3",
   "language": "python",
   "name": "python3"
  },
  "language_info": {
   "codemirror_mode": {
    "name": "ipython",
    "version": 2
   },
   "file_extension": ".py",
   "mimetype": "text/x-python",
   "name": "python",
   "nbconvert_exporter": "python",
   "pygments_lexer": "ipython2",
   "version": "2.7.6"
  }
 },
 "nbformat": 4,
 "nbformat_minor": 0
}